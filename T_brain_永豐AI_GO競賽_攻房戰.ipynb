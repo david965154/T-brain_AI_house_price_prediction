{
  "nbformat": 4,
  "nbformat_minor": 0,
  "metadata": {
    "colab": {
      "provenance": []
    },
    "kernelspec": {
      "name": "python3",
      "display_name": "Python 3"
    },
    "language_info": {
      "name": "python"
    }
  },
  "cells": [
    {
      "cell_type": "code",
      "execution_count": null,
      "metadata": {
        "colab": {
          "base_uri": "https://localhost:8080/"
        },
        "id": "qKNEjAu3GkpS",
        "outputId": "a6d913d7-825d-4ece-fa12-e886c50d108c"
      },
      "outputs": [
        {
          "output_type": "stream",
          "name": "stdout",
          "text": [
            "Mounted at /content/drive\n"
          ]
        }
      ],
      "source": [
        "from google.colab import drive\n",
        "drive.mount('/content/drive')"
      ]
    },
    {
      "cell_type": "code",
      "source": [
        "!pip install tensorflow_decision_forests"
      ],
      "metadata": {
        "colab": {
          "base_uri": "https://localhost:8080/"
        },
        "id": "smy2TnmOGmNh",
        "outputId": "60540f17-96b2-489a-9ec4-055f09d76ced"
      },
      "execution_count": null,
      "outputs": [
        {
          "output_type": "stream",
          "name": "stdout",
          "text": [
            "Collecting tensorflow_decision_forests\n",
            "  Downloading tensorflow_decision_forests-1.7.0-cp310-cp310-manylinux_2_17_x86_64.manylinux2014_x86_64.whl (16.8 MB)\n",
            "\u001b[2K     \u001b[90m━━━━━━━━━━━━━━━━━━━━━━━━━━━━━━━━━━━━━━━━\u001b[0m \u001b[32m16.8/16.8 MB\u001b[0m \u001b[31m75.7 MB/s\u001b[0m eta \u001b[36m0:00:00\u001b[0m\n",
            "\u001b[?25hRequirement already satisfied: numpy in /usr/local/lib/python3.10/dist-packages (from tensorflow_decision_forests) (1.23.5)\n",
            "Requirement already satisfied: pandas in /usr/local/lib/python3.10/dist-packages (from tensorflow_decision_forests) (1.5.3)\n",
            "Requirement already satisfied: tensorflow~=2.14.0 in /usr/local/lib/python3.10/dist-packages (from tensorflow_decision_forests) (2.14.0)\n",
            "Requirement already satisfied: six in /usr/local/lib/python3.10/dist-packages (from tensorflow_decision_forests) (1.16.0)\n",
            "Requirement already satisfied: absl-py in /usr/local/lib/python3.10/dist-packages (from tensorflow_decision_forests) (1.4.0)\n",
            "Requirement already satisfied: wheel in /usr/local/lib/python3.10/dist-packages (from tensorflow_decision_forests) (0.41.2)\n",
            "Collecting wurlitzer (from tensorflow_decision_forests)\n",
            "  Downloading wurlitzer-3.0.3-py3-none-any.whl (7.3 kB)\n",
            "Requirement already satisfied: astunparse>=1.6.0 in /usr/local/lib/python3.10/dist-packages (from tensorflow~=2.14.0->tensorflow_decision_forests) (1.6.3)\n",
            "Requirement already satisfied: flatbuffers>=23.5.26 in /usr/local/lib/python3.10/dist-packages (from tensorflow~=2.14.0->tensorflow_decision_forests) (23.5.26)\n",
            "Requirement already satisfied: gast!=0.5.0,!=0.5.1,!=0.5.2,>=0.2.1 in /usr/local/lib/python3.10/dist-packages (from tensorflow~=2.14.0->tensorflow_decision_forests) (0.5.4)\n",
            "Requirement already satisfied: google-pasta>=0.1.1 in /usr/local/lib/python3.10/dist-packages (from tensorflow~=2.14.0->tensorflow_decision_forests) (0.2.0)\n",
            "Requirement already satisfied: h5py>=2.9.0 in /usr/local/lib/python3.10/dist-packages (from tensorflow~=2.14.0->tensorflow_decision_forests) (3.9.0)\n",
            "Requirement already satisfied: libclang>=13.0.0 in /usr/local/lib/python3.10/dist-packages (from tensorflow~=2.14.0->tensorflow_decision_forests) (16.0.6)\n",
            "Requirement already satisfied: ml-dtypes==0.2.0 in /usr/local/lib/python3.10/dist-packages (from tensorflow~=2.14.0->tensorflow_decision_forests) (0.2.0)\n",
            "Requirement already satisfied: opt-einsum>=2.3.2 in /usr/local/lib/python3.10/dist-packages (from tensorflow~=2.14.0->tensorflow_decision_forests) (3.3.0)\n",
            "Requirement already satisfied: packaging in /usr/local/lib/python3.10/dist-packages (from tensorflow~=2.14.0->tensorflow_decision_forests) (23.2)\n",
            "Requirement already satisfied: protobuf!=4.21.0,!=4.21.1,!=4.21.2,!=4.21.3,!=4.21.4,!=4.21.5,<5.0.0dev,>=3.20.3 in /usr/local/lib/python3.10/dist-packages (from tensorflow~=2.14.0->tensorflow_decision_forests) (3.20.3)\n",
            "Requirement already satisfied: setuptools in /usr/local/lib/python3.10/dist-packages (from tensorflow~=2.14.0->tensorflow_decision_forests) (67.7.2)\n",
            "Requirement already satisfied: termcolor>=1.1.0 in /usr/local/lib/python3.10/dist-packages (from tensorflow~=2.14.0->tensorflow_decision_forests) (2.3.0)\n",
            "Requirement already satisfied: typing-extensions>=3.6.6 in /usr/local/lib/python3.10/dist-packages (from tensorflow~=2.14.0->tensorflow_decision_forests) (4.5.0)\n",
            "Requirement already satisfied: wrapt<1.15,>=1.11.0 in /usr/local/lib/python3.10/dist-packages (from tensorflow~=2.14.0->tensorflow_decision_forests) (1.14.1)\n",
            "Requirement already satisfied: tensorflow-io-gcs-filesystem>=0.23.1 in /usr/local/lib/python3.10/dist-packages (from tensorflow~=2.14.0->tensorflow_decision_forests) (0.34.0)\n",
            "Requirement already satisfied: grpcio<2.0,>=1.24.3 in /usr/local/lib/python3.10/dist-packages (from tensorflow~=2.14.0->tensorflow_decision_forests) (1.59.0)\n",
            "Requirement already satisfied: tensorboard<2.15,>=2.14 in /usr/local/lib/python3.10/dist-packages (from tensorflow~=2.14.0->tensorflow_decision_forests) (2.14.1)\n",
            "Requirement already satisfied: tensorflow-estimator<2.15,>=2.14.0 in /usr/local/lib/python3.10/dist-packages (from tensorflow~=2.14.0->tensorflow_decision_forests) (2.14.0)\n",
            "Requirement already satisfied: keras<2.15,>=2.14.0 in /usr/local/lib/python3.10/dist-packages (from tensorflow~=2.14.0->tensorflow_decision_forests) (2.14.0)\n",
            "Requirement already satisfied: python-dateutil>=2.8.1 in /usr/local/lib/python3.10/dist-packages (from pandas->tensorflow_decision_forests) (2.8.2)\n",
            "Requirement already satisfied: pytz>=2020.1 in /usr/local/lib/python3.10/dist-packages (from pandas->tensorflow_decision_forests) (2023.3.post1)\n",
            "Requirement already satisfied: google-auth<3,>=1.6.3 in /usr/local/lib/python3.10/dist-packages (from tensorboard<2.15,>=2.14->tensorflow~=2.14.0->tensorflow_decision_forests) (2.17.3)\n",
            "Requirement already satisfied: google-auth-oauthlib<1.1,>=0.5 in /usr/local/lib/python3.10/dist-packages (from tensorboard<2.15,>=2.14->tensorflow~=2.14.0->tensorflow_decision_forests) (1.0.0)\n",
            "Requirement already satisfied: markdown>=2.6.8 in /usr/local/lib/python3.10/dist-packages (from tensorboard<2.15,>=2.14->tensorflow~=2.14.0->tensorflow_decision_forests) (3.5)\n",
            "Requirement already satisfied: requests<3,>=2.21.0 in /usr/local/lib/python3.10/dist-packages (from tensorboard<2.15,>=2.14->tensorflow~=2.14.0->tensorflow_decision_forests) (2.31.0)\n",
            "Requirement already satisfied: tensorboard-data-server<0.8.0,>=0.7.0 in /usr/local/lib/python3.10/dist-packages (from tensorboard<2.15,>=2.14->tensorflow~=2.14.0->tensorflow_decision_forests) (0.7.2)\n",
            "Requirement already satisfied: werkzeug>=1.0.1 in /usr/local/lib/python3.10/dist-packages (from tensorboard<2.15,>=2.14->tensorflow~=2.14.0->tensorflow_decision_forests) (3.0.1)\n",
            "Requirement already satisfied: cachetools<6.0,>=2.0.0 in /usr/local/lib/python3.10/dist-packages (from google-auth<3,>=1.6.3->tensorboard<2.15,>=2.14->tensorflow~=2.14.0->tensorflow_decision_forests) (5.3.2)\n",
            "Requirement already satisfied: pyasn1-modules>=0.2.1 in /usr/local/lib/python3.10/dist-packages (from google-auth<3,>=1.6.3->tensorboard<2.15,>=2.14->tensorflow~=2.14.0->tensorflow_decision_forests) (0.3.0)\n",
            "Requirement already satisfied: rsa<5,>=3.1.4 in /usr/local/lib/python3.10/dist-packages (from google-auth<3,>=1.6.3->tensorboard<2.15,>=2.14->tensorflow~=2.14.0->tensorflow_decision_forests) (4.9)\n",
            "Requirement already satisfied: requests-oauthlib>=0.7.0 in /usr/local/lib/python3.10/dist-packages (from google-auth-oauthlib<1.1,>=0.5->tensorboard<2.15,>=2.14->tensorflow~=2.14.0->tensorflow_decision_forests) (1.3.1)\n",
            "Requirement already satisfied: charset-normalizer<4,>=2 in /usr/local/lib/python3.10/dist-packages (from requests<3,>=2.21.0->tensorboard<2.15,>=2.14->tensorflow~=2.14.0->tensorflow_decision_forests) (3.3.1)\n",
            "Requirement already satisfied: idna<4,>=2.5 in /usr/local/lib/python3.10/dist-packages (from requests<3,>=2.21.0->tensorboard<2.15,>=2.14->tensorflow~=2.14.0->tensorflow_decision_forests) (3.4)\n",
            "Requirement already satisfied: urllib3<3,>=1.21.1 in /usr/local/lib/python3.10/dist-packages (from requests<3,>=2.21.0->tensorboard<2.15,>=2.14->tensorflow~=2.14.0->tensorflow_decision_forests) (2.0.7)\n",
            "Requirement already satisfied: certifi>=2017.4.17 in /usr/local/lib/python3.10/dist-packages (from requests<3,>=2.21.0->tensorboard<2.15,>=2.14->tensorflow~=2.14.0->tensorflow_decision_forests) (2023.7.22)\n",
            "Requirement already satisfied: MarkupSafe>=2.1.1 in /usr/local/lib/python3.10/dist-packages (from werkzeug>=1.0.1->tensorboard<2.15,>=2.14->tensorflow~=2.14.0->tensorflow_decision_forests) (2.1.3)\n",
            "Requirement already satisfied: pyasn1<0.6.0,>=0.4.6 in /usr/local/lib/python3.10/dist-packages (from pyasn1-modules>=0.2.1->google-auth<3,>=1.6.3->tensorboard<2.15,>=2.14->tensorflow~=2.14.0->tensorflow_decision_forests) (0.5.0)\n",
            "Requirement already satisfied: oauthlib>=3.0.0 in /usr/local/lib/python3.10/dist-packages (from requests-oauthlib>=0.7.0->google-auth-oauthlib<1.1,>=0.5->tensorboard<2.15,>=2.14->tensorflow~=2.14.0->tensorflow_decision_forests) (3.2.2)\n",
            "Installing collected packages: wurlitzer, tensorflow_decision_forests\n",
            "Successfully installed tensorflow_decision_forests-1.7.0 wurlitzer-3.0.3\n"
          ]
        }
      ]
    },
    {
      "cell_type": "code",
      "source": [
        "import numpy as np  # linear algebra\n",
        "import pandas as pd  #\n",
        "from datetime import datetime\n",
        "\n",
        "from scipy.stats import skew  # for some statistics\n",
        "from scipy.special import boxcox1p\n",
        "from scipy.stats import boxcox_normmax\n",
        "from scipy.stats import yeojohnson\n",
        "\n",
        "from sklearn.linear_model import ElasticNetCV, LassoCV, RidgeCV\n",
        "from sklearn.ensemble import GradientBoostingRegressor\n",
        "from sklearn.svm import SVR\n",
        "from sklearn.pipeline import make_pipeline\n",
        "from sklearn.preprocessing import RobustScaler\n",
        "from sklearn.model_selection import KFold, cross_val_score\n",
        "from sklearn.metrics import mean_squared_error\n",
        "\n",
        "from mlxtend.regressor import StackingCVRegressor\n",
        "\n",
        "from xgboost import XGBRegressor\n",
        "from lightgbm import LGBMRegressor\n",
        "\n",
        "import os\n",
        "import tensorflow as tf\n",
        "from sklearn.model_selection import train_test_split\n",
        "import tensorflow_decision_forests as tfdf\n",
        "import matplotlib.pyplot as plt\n",
        "import scipy.stats as stats\n",
        "import sklearn.linear_model as linear_model\n",
        "import seaborn as sns\n",
        "from sklearn.manifold import TSNE\n",
        "from sklearn.cluster import KMeans\n",
        "from sklearn.decomposition import PCA\n",
        "from sklearn.preprocessing import StandardScaler\n",
        "from sklearn.preprocessing import LabelEncoder\n",
        "import warnings\n",
        "warnings.filterwarnings('ignore')"
      ],
      "metadata": {
        "id": "NPb6bJUkGnkB"
      },
      "execution_count": null,
      "outputs": []
    },
    {
      "cell_type": "code",
      "source": [
        "df = pd.read_csv('drive/MyDrive/30_Training Dataset_V2/traning_dataset.csv')\n",
        "# df, dftest = train_test_split(df, test_size=0.2, random_state=42)\n",
        "dfpred = pd.read_csv('drive/MyDrive/30_Public Dataset_Public Sumission Template_v2/test.csv')\n",
        "\n",
        "colName = list(df.columns)\n",
        "colNamepred = list(dfpred.columns)\n",
        "exColumn = ['ID', '備註', '使用分區']\n",
        "XColName = list(set(colName) - set(exColumn))\n",
        "predXColName = list(set(colNamepred) - set(exColumn))\n",
        "\n",
        "df=df[XColName]\n",
        "dfpred=dfpred[predXColName]\n"
      ],
      "metadata": {
        "id": "REXot4PSHtLO"
      },
      "execution_count": null,
      "outputs": []
    },
    {
      "cell_type": "code",
      "source": [
        "# y = df['單價']\n",
        "# plt.figure(1); plt.title('Johnson SU')\n",
        "# sns.distplot(y, kde=False, fit=stats.johnsonsu)\n",
        "# plt.figure(2); plt.title('Normal')\n",
        "# sns.distplot(y, kde=False, fit=stats.norm)\n",
        "# plt.figure(3); plt.title('Log Normal')\n",
        "# sns.distplot(y, kde=False, fit=stats.lognorm)"
      ],
      "metadata": {
        "colab": {
          "base_uri": "https://localhost:8080/",
          "height": 1000
        },
        "id": "FI2PuIghGoAJ",
        "outputId": "4c7dd81a-be95-4022-c6b6-64bf57e2a9c6"
      },
      "execution_count": null,
      "outputs": [
        {
          "output_type": "execute_result",
          "data": {
            "text/plain": [
              "<Axes: title={'center': 'Log Normal'}, xlabel='單價'>"
            ]
          },
          "metadata": {},
          "execution_count": 133
        },
        {
          "output_type": "display_data",
          "data": {
            "text/plain": [
              "<Figure size 640x480 with 1 Axes>"
            ],
            "image/png": "[encoded data removed]"
          },
          "metadata": {}
        },
        {
          "output_type": "display_data",
          "data": {
            "text/plain": [
              "<Figure size 640x480 with 1 Axes>"
            ],
            "image/png": "[encoded data removed]"
          },
          "metadata": {}
        },
        {
          "output_type": "display_data",
          "data": {
            "text/plain": [
              "<Figure size 640x480 with 1 Axes>"
            ],
            "image/png": "[encoded data removed]"
          },
          "metadata": {}
        }
      ]
    },
    {
      "cell_type": "code",
      "source": [
        "df[\"單價\"] = np.log1p(df[\"單價\"])\n",
        "ytrain = df['單價'].sort_index(ascending=True)"
      ],
      "metadata": {
        "id": "J4in3qgOG6dA"
      },
      "execution_count": null,
      "outputs": []
    },
    {
      "cell_type": "code",
      "source": [
        "train_features = df.drop(['單價'], axis=1)\n",
        "pred_features = dfpred"
      ],
      "metadata": {
        "id": "fXLJptnAG9KA"
      },
      "execution_count": null,
      "outputs": []
    },
    {
      "cell_type": "code",
      "source": [
        "numeric_dtypes = ['int16', 'int32', 'int64', 'float16', 'float32', 'float64']\n",
        "numericstrain = []\n",
        "for i in train_features.columns:\n",
        "    if train_features[i].dtype in numeric_dtypes:\n",
        "        numericstrain.append(i)\n",
        "\n",
        "numericspred = []\n",
        "for i in pred_features.columns:\n",
        "    if pred_features[i].dtype in numeric_dtypes:\n",
        "        numericspred.append(i)"
      ],
      "metadata": {
        "id": "uBQGFS5PHDfQ"
      },
      "execution_count": null,
      "outputs": []
    },
    {
      "cell_type": "code",
      "source": [
        "skew_features = train_features[numericstrain].apply(lambda x: skew(x))\n",
        "\n",
        "high_skew = skew_features[skew_features > 0.5]\n",
        "skew_index = high_skew.index\n",
        "\n",
        "for i in skew_index:\n",
        "  transformed_data, lambda_value = yeojohnson(train_features[i] + 1)\n",
        "  train_features[i] = transformed_data\n",
        "\n",
        "\n",
        "skew_features = pred_features[numericspred].apply(lambda x: skew(x))\n",
        "\n",
        "high_skew = skew_features[skew_features > 0.5]\n",
        "skew_index = high_skew.index\n",
        "\n",
        "for i in skew_index:\n",
        "  transformed_data, lambda_value = yeojohnson(pred_features[i] + 1)\n",
        "  pred_features[i] = transformed_data"
      ],
      "metadata": {
        "id": "eEx-W5DEHFBZ"
      },
      "execution_count": null,
      "outputs": []
    },
    {
      "cell_type": "code",
      "source": [
        "x_train = train_features.copy()\n",
        "y_train = ytrain.copy()\n",
        "x_pred = pred_features.copy()"
      ],
      "metadata": {
        "id": "GpZs4SKDHFkA"
      },
      "execution_count": null,
      "outputs": []
    },
    {
      "cell_type": "code",
      "source": [
        "df = pd.concat([x_train, y_train], axis=1)"
      ],
      "metadata": {
        "id": "qzA4-P4VHHW3"
      },
      "execution_count": null,
      "outputs": []
    },
    {
      "cell_type": "code",
      "source": [
        "predictiondf = pd.DataFrame()"
      ],
      "metadata": {
        "id": "AonQYNaHr-GU"
      },
      "execution_count": null,
      "outputs": []
    },
    {
      "cell_type": "code",
      "source": [
        "predf = pd.DataFrame()"
      ],
      "metadata": {
        "id": "kmW34wc4yHjy"
      },
      "execution_count": null,
      "outputs": []
    },
    {
      "cell_type": "markdown",
      "source": [
        "# **Gradient Boosted Trees**"
      ],
      "metadata": {
        "id": "yy6Xa2Ypj4zL"
      }
    },
    {
      "cell_type": "code",
      "source": [
        "train_dataset = tfdf.keras.pd_dataframe_to_tf_dataset(df, label=\"單價\", task = tfdf.keras.Task.REGRESSION)\n",
        "# 創建一個Boosted Trees回歸模型\n",
        "model = tfdf.keras.GradientBoostedTreesModel(max_depth=8, task = tfdf.keras.Task.REGRESSION)\n",
        "model.compile(metrics=[\"mape\"])\n",
        "# 訓練模型\n",
        "model.fit(train_dataset)\n",
        "\n",
        "tfdf.model_plotter.plot_model_in_colab(model, tree_idx=0, max_depth=3)"
      ],
      "metadata": {
        "colab": {
          "base_uri": "https://localhost:8080/",
          "height": 523
        },
        "id": "uUfExrpRHKbg",
        "outputId": "1dba8203-d6db-423b-c7e0-01fa30d729ec"
      },
      "execution_count": null,
      "outputs": [
        {
          "output_type": "stream",
          "name": "stdout",
          "text": [
            "Use /tmp/tmp4lwcv3x5 as temporary training directory\n",
            "Reading training dataset...\n",
            "Training dataset read in 0:00:00.705085. Found 11751 examples.\n",
            "Training model...\n",
            "Model trained in 0:04:14.009755\n",
            "Compiling model...\n",
            "Model compiled.\n"
          ]
        },
        {
          "output_type": "execute_result",
          "data": {
            "text/plain": [
              "<IPython.core.display.HTML object>"
            ],
            "text/html": [
              "\n",
              "<script src=\"https://d3js.org/d3.v6.min.js\"></script>\n",
              "<div id=\"tree_plot_5e21ceb8cf8e459183cfaae377e2cacd\"></div>\n",
              "<script>\n",
              "/*\n",
              " * Copyright 2021 Google LLC.\n",
              " * Licensed under the Apache License, Version 2.0 (the \"License\");\n",
              " * you may not use this file except in compliance with the License.\n",
              " * You may obtain a copy of the License at\n",
              " *\n",
              " *     https://www.apache.org/licenses/LICENSE-2.0\n",
              " *\n",
              " * Unless required by applicable law or agreed to in writing, software\n",
              " * distributed under the License is distributed on an \"AS IS\" BASIS,\n",
              " * WITHOUT WARRANTIES OR CONDITIONS OF ANY KIND, either express or implied.\n",
              " * See the License for the specific language governing permissions and\n",
              " * limitations under the License.\n",
              " */\n",
              "\n",
              "/**\n",
              " *  Plotting of decision trees generated by TF-DF.\n",
              " *\n",
              " *  A tree is a recursive structure of node objects.\n",
              " *  A node contains one or more of the following components:\n",
              " *\n",
              " *    - A value: Representing the output of the node. If the node is not a leaf,\n",
              " *      the value is only present for analysis i.e. it is not used for\n",
              " *      predictions.\n",
              " *\n",
              " *    - A condition : For non-leaf nodes, the condition (also known as split)\n",
              " *      defines a binary test to branch to the positive or negative child.\n",
              " *\n",
              " *    - An explanation: Generally a plot showing the relation between the label\n",
              " *      and the condition to give insights about the effect of the condition.\n",
              " *\n",
              " *    - Two children : For non-leaf nodes, the children nodes. The first\n",
              " *      children (i.e. \"node.children[0]\") is the negative children (drawn in\n",
              " *      red). The second children is the positive one (drawn in green).\n",
              " *\n",
              " */\n",
              "\n",
              "/**\n",
              " * Plots a single decision tree into a DOM element.\n",
              " * @param {!options} options Dictionary of configurations.\n",
              " * @param {!tree} raw_tree Recursive tree structure.\n",
              " * @param {string} canvas_id Id of the output dom element.\n",
              " */\n",
              "function display_tree(options, raw_tree, canvas_id) {\n",
              "  console.log(options);\n",
              "\n",
              "  // Determine the node placement.\n",
              "  const tree_struct = d3.tree().nodeSize(\n",
              "      [options.node_y_offset, options.node_x_offset])(d3.hierarchy(raw_tree));\n",
              "\n",
              "  // Boundaries of the node placement.\n",
              "  let x_min = Infinity;\n",
              "  let x_max = -x_min;\n",
              "  let y_min = Infinity;\n",
              "  let y_max = -x_min;\n",
              "\n",
              "  tree_struct.each(d => {\n",
              "    if (d.x > x_max) x_max = d.x;\n",
              "    if (d.x < x_min) x_min = d.x;\n",
              "    if (d.y > y_max) y_max = d.y;\n",
              "    if (d.y < y_min) y_min = d.y;\n",
              "  });\n",
              "\n",
              "  // Size of the plot.\n",
              "  const width = y_max - y_min + options.node_x_size + options.margin * 2;\n",
              "  const height = x_max - x_min + options.node_y_size + options.margin * 2 +\n",
              "      options.node_y_offset - options.node_y_size;\n",
              "\n",
              "  const plot = d3.select(canvas_id);\n",
              "\n",
              "  // Tool tip\n",
              "  options.tooltip = plot.append('div')\n",
              "                        .attr('width', 100)\n",
              "                        .attr('height', 100)\n",
              "                        .style('padding', '4px')\n",
              "                        .style('background', '#fff')\n",
              "                        .style('box-shadow', '4px 4px 0px rgba(0,0,0,0.1)')\n",
              "                        .style('border', '1px solid black')\n",
              "                        .style('font-family', 'sans-serif')\n",
              "                        .style('font-size', options.font_size)\n",
              "                        .style('position', 'absolute')\n",
              "                        .style('z-index', '10')\n",
              "                        .attr('pointer-events', 'none')\n",
              "                        .style('display', 'none');\n",
              "\n",
              "  // Create canvas\n",
              "  const svg = plot.append('svg').attr('width', width).attr('height', height);\n",
              "  const graph =\n",
              "      svg.style('overflow', 'visible')\n",
              "          .append('g')\n",
              "          .attr('font-family', 'sans-serif')\n",
              "          .attr('font-size', options.font_size)\n",
              "          .attr(\n",
              "              'transform',\n",
              "              () => `translate(${options.margin},${\n",
              "                  - x_min + options.node_y_offset / 2 + options.margin})`);\n",
              "\n",
              "  // Plot bounding box.\n",
              "  if (options.show_plot_bounding_box) {\n",
              "    svg.append('rect')\n",
              "        .attr('width', width)\n",
              "        .attr('height', height)\n",
              "        .attr('fill', 'none')\n",
              "        .attr('stroke-width', 1.0)\n",
              "        .attr('stroke', 'black');\n",
              "  }\n",
              "\n",
              "  // Draw the edges.\n",
              "  display_edges(options, graph, tree_struct);\n",
              "\n",
              "  // Draw the nodes.\n",
              "  display_nodes(options, graph, tree_struct);\n",
              "}\n",
              "\n",
              "/**\n",
              " * Draw the nodes of the tree.\n",
              " * @param {!options} options Dictionary of configurations.\n",
              " * @param {!graph} graph D3 search handle containing the graph.\n",
              " * @param {!tree_struct} tree_struct Structure of the tree (node placement,\n",
              " *     data, etc.).\n",
              " */\n",
              "function display_nodes(options, graph, tree_struct) {\n",
              "  const nodes = graph.append('g')\n",
              "                    .selectAll('g')\n",
              "                    .data(tree_struct.descendants())\n",
              "                    .join('g')\n",
              "                    .attr('transform', d => `translate(${d.y},${d.x})`);\n",
              "\n",
              "  nodes.append('rect')\n",
              "      .attr('x', 0.5)\n",
              "      .attr('y', 0.5)\n",
              "      .attr('width', options.node_x_size)\n",
              "      .attr('height', options.node_y_size)\n",
              "      .attr('stroke', 'lightgrey')\n",
              "      .attr('stroke-width', 1)\n",
              "      .attr('fill', 'white')\n",
              "      .attr('y', -options.node_y_size / 2);\n",
              "\n",
              "  // Brackets on the right of condition nodes without children.\n",
              "  non_leaf_node_without_children =\n",
              "      nodes.filter(node => node.data.condition != null && node.children == null)\n",
              "          .append('g')\n",
              "          .attr('transform', `translate(${options.node_x_size},0)`);\n",
              "\n",
              "  non_leaf_node_without_children.append('path')\n",
              "      .attr('d', 'M0,0 C 10,0 0,10 10,10')\n",
              "      .attr('fill', 'none')\n",
              "      .attr('stroke-width', 1.0)\n",
              "      .attr('stroke', '#F00');\n",
              "\n",
              "  non_leaf_node_without_children.append('path')\n",
              "      .attr('d', 'M0,0 C 10,0 0,-10 10,-10')\n",
              "      .attr('fill', 'none')\n",
              "      .attr('stroke-width', 1.0)\n",
              "      .attr('stroke', '#0F0');\n",
              "\n",
              "  const node_content = nodes.append('g').attr(\n",
              "      'transform',\n",
              "      `translate(0,${options.node_padding - options.node_y_size / 2})`);\n",
              "\n",
              "  node_content.append(node => create_node_element(options, node));\n",
              "}\n",
              "\n",
              "/**\n",
              " * Creates the D3 content for a single node.\n",
              " * @param {!options} options Dictionary of configurations.\n",
              " * @param {!node} node Node to draw.\n",
              " * @return {!d3} D3 content.\n",
              " */\n",
              "function create_node_element(options, node) {\n",
              "  // Output accumulator.\n",
              "  let output = {\n",
              "    // Content to draw.\n",
              "    content: d3.create('svg:g'),\n",
              "    // Vertical offset to the next element to draw.\n",
              "    vertical_offset: 0\n",
              "  };\n",
              "\n",
              "  // Conditions.\n",
              "  if (node.data.condition != null) {\n",
              "    display_condition(options, node.data.condition, output);\n",
              "  }\n",
              "\n",
              "  // Values.\n",
              "  if (node.data.value != null) {\n",
              "    display_value(options, node.data.value, output);\n",
              "  }\n",
              "\n",
              "  // Explanations.\n",
              "  if (node.data.explanation != null) {\n",
              "    display_explanation(options, node.data.explanation, output);\n",
              "  }\n",
              "\n",
              "  return output.content.node();\n",
              "}\n",
              "\n",
              "\n",
              "/**\n",
              " * Adds a single line of text inside of a node.\n",
              " * @param {!options} options Dictionary of configurations.\n",
              " * @param {string} text Text to display.\n",
              " * @param {!output} output Output display accumulator.\n",
              " */\n",
              "function display_node_text(options, text, output) {\n",
              "  output.content.append('text')\n",
              "      .attr('x', options.node_padding)\n",
              "      .attr('y', output.vertical_offset)\n",
              "      .attr('alignment-baseline', 'hanging')\n",
              "      .text(text);\n",
              "  output.vertical_offset += 10;\n",
              "}\n",
              "\n",
              "/**\n",
              " * Adds a single line of text inside of a node with a tooltip.\n",
              " * @param {!options} options Dictionary of configurations.\n",
              " * @param {string} text Text to display.\n",
              " * @param {string} tooltip Text in the Tooltip.\n",
              " * @param {!output} output Output display accumulator.\n",
              " */\n",
              "function display_node_text_with_tooltip(options, text, tooltip, output) {\n",
              "  const item = output.content.append('text')\n",
              "                   .attr('x', options.node_padding)\n",
              "                   .attr('alignment-baseline', 'hanging')\n",
              "                   .text(text);\n",
              "\n",
              "  add_tooltip(options, item, () => tooltip);\n",
              "  output.vertical_offset += 10;\n",
              "}\n",
              "\n",
              "/**\n",
              " * Adds a tooltip to a dom element.\n",
              " * @param {!options} options Dictionary of configurations.\n",
              " * @param {!dom} target Dom element to equip with a tooltip.\n",
              " * @param {!func} get_content Generates the html content of the tooltip.\n",
              " */\n",
              "function add_tooltip(options, target, get_content) {\n",
              "  function show(d) {\n",
              "    options.tooltip.style('display', 'block');\n",
              "    options.tooltip.html(get_content());\n",
              "  }\n",
              "\n",
              "  function hide(d) {\n",
              "    options.tooltip.style('display', 'none');\n",
              "  }\n",
              "\n",
              "  function move(d) {\n",
              "    options.tooltip.style('display', 'block');\n",
              "    options.tooltip.style('left', (d.pageX + 5) + 'px');\n",
              "    options.tooltip.style('top', d.pageY + 'px');\n",
              "  }\n",
              "\n",
              "  target.on('mouseover', show);\n",
              "  target.on('mouseout', hide);\n",
              "  target.on('mousemove', move);\n",
              "}\n",
              "\n",
              "/**\n",
              " * Adds a condition inside of a node.\n",
              " * @param {!options} options Dictionary of configurations.\n",
              " * @param {!condition} condition Condition to display.\n",
              " * @param {!output} output Output display accumulator.\n",
              " */\n",
              "function display_condition(options, condition, output) {\n",
              "  threshold_format = d3.format('r');\n",
              "\n",
              "  if (condition.type === 'IS_MISSING') {\n",
              "    display_node_text(options, `${condition.attribute} is missing`, output);\n",
              "    return;\n",
              "  }\n",
              "\n",
              "  if (condition.type === 'IS_TRUE') {\n",
              "    display_node_text(options, `${condition.attribute} is true`, output);\n",
              "    return;\n",
              "  }\n",
              "\n",
              "  if (condition.type === 'NUMERICAL_IS_HIGHER_THAN') {\n",
              "    format = d3.format('r');\n",
              "    display_node_text(\n",
              "        options,\n",
              "        `${condition.attribute} >= ${threshold_format(condition.threshold)}`,\n",
              "        output);\n",
              "    return;\n",
              "  }\n",
              "\n",
              "  if (condition.type === 'CATEGORICAL_IS_IN') {\n",
              "    display_node_text_with_tooltip(\n",
              "        options, `${condition.attribute} in [...]`,\n",
              "        `${condition.attribute} in [${condition.mask}]`, output);\n",
              "    return;\n",
              "  }\n",
              "\n",
              "  if (condition.type === 'CATEGORICAL_SET_CONTAINS') {\n",
              "    display_node_text_with_tooltip(\n",
              "        options, `${condition.attribute} intersect [...]`,\n",
              "        `${condition.attribute} intersect [${condition.mask}]`, output);\n",
              "    return;\n",
              "  }\n",
              "\n",
              "  if (condition.type === 'NUMERICAL_SPARSE_OBLIQUE') {\n",
              "    display_node_text_with_tooltip(\n",
              "        options, `Sparse oblique split...`,\n",
              "        `[${condition.attributes}]*[${condition.weights}]>=${\n",
              "            threshold_format(condition.threshold)}`,\n",
              "        output);\n",
              "    return;\n",
              "  }\n",
              "\n",
              "  display_node_text(\n",
              "      options, `Non supported condition ${condition.type}`, output);\n",
              "}\n",
              "\n",
              "/**\n",
              " * Adds a value inside of a node.\n",
              " * @param {!options} options Dictionary of configurations.\n",
              " * @param {!value} value Value to display.\n",
              " * @param {!output} output Output display accumulator.\n",
              " */\n",
              "function display_value(options, value, output) {\n",
              "  if (value.type === 'PROBABILITY') {\n",
              "    const left_margin = 0;\n",
              "    const right_margin = 50;\n",
              "    const plot_width = options.node_x_size - options.node_padding * 2 -\n",
              "        left_margin - right_margin;\n",
              "\n",
              "    let cusum = Array.from(d3.cumsum(value.distribution));\n",
              "    cusum.unshift(0);\n",
              "    const distribution_plot = output.content.append('g').attr(\n",
              "        'transform', `translate(0,${output.vertical_offset + 0.5})`);\n",
              "\n",
              "    distribution_plot.selectAll('rect')\n",
              "        .data(value.distribution)\n",
              "        .join('rect')\n",
              "        .attr('height', 10)\n",
              "        .attr(\n",
              "            'x',\n",
              "            (d, i) =>\n",
              "                (cusum[i] * plot_width + left_margin + options.node_padding))\n",
              "        .attr('width', (d, i) => d * plot_width)\n",
              "        .style('fill', (d, i) => d3.schemeSet1[i]);\n",
              "\n",
              "    const num_examples =\n",
              "        output.content.append('g')\n",
              "            .attr('transform', `translate(0,${output.vertical_offset})`)\n",
              "            .append('text')\n",
              "            .attr('x', options.node_x_size - options.node_padding)\n",
              "            .attr('alignment-baseline', 'hanging')\n",
              "            .attr('text-anchor', 'end')\n",
              "            .text(`(${value.num_examples})`);\n",
              "\n",
              "    const distribution_details = d3.create('ul');\n",
              "    distribution_details.selectAll('li')\n",
              "        .data(value.distribution)\n",
              "        .join('li')\n",
              "        .append('span')\n",
              "        .text(\n",
              "            (d, i) =>\n",
              "                'class ' + i + ': ' + d3.format('.3%')(value.distribution[i]));\n",
              "\n",
              "    add_tooltip(options, distribution_plot, () => distribution_details.html());\n",
              "    add_tooltip(options, num_examples, () => 'Number of examples');\n",
              "\n",
              "    output.vertical_offset += 10;\n",
              "    return;\n",
              "  }\n",
              "\n",
              "  if (value.type === 'REGRESSION') {\n",
              "    display_node_text(\n",
              "        options,\n",
              "        'value: ' + d3.format('r')(value.value) + ` (` +\n",
              "            d3.format('.6')(value.num_examples) + `)`,\n",
              "        output);\n",
              "    return;\n",
              "  }\n",
              "\n",
              "  if (value.type === 'UPLIFT') {\n",
              "    display_node_text(\n",
              "        options,\n",
              "        'effect: ' + d3.format('r')(value.treatment_effect) + ` (` +\n",
              "            d3.format('.6')(value.num_examples) + `)`,\n",
              "        output);\n",
              "    return;\n",
              "  }\n",
              "\n",
              "  display_node_text(options, `Non supported value ${value.type}`, output);\n",
              "}\n",
              "\n",
              "/**\n",
              " * Adds an explanation inside of a node.\n",
              " * @param {!options} options Dictionary of configurations.\n",
              " * @param {!explanation} explanation Explanation to display.\n",
              " * @param {!output} output Output display accumulator.\n",
              " */\n",
              "function display_explanation(options, explanation, output) {\n",
              "  // Margin before the explanation.\n",
              "  output.vertical_offset += 10;\n",
              "\n",
              "  display_node_text(\n",
              "      options, `Non supported explanation ${explanation.type}`, output);\n",
              "}\n",
              "\n",
              "\n",
              "/**\n",
              " * Draw the edges of the tree.\n",
              " * @param {!options} options Dictionary of configurations.\n",
              " * @param {!graph} graph D3 search handle containing the graph.\n",
              " * @param {!tree_struct} tree_struct Structure of the tree (node placement,\n",
              " *     data, etc.).\n",
              " */\n",
              "function display_edges(options, graph, tree_struct) {\n",
              "  // Draw an edge between a parent and a child node with a bezier.\n",
              "  function draw_single_edge(d) {\n",
              "    return 'M' + (d.source.y + options.node_x_size) + ',' + d.source.x + ' C' +\n",
              "        (d.source.y + options.node_x_size + options.edge_rounding) + ',' +\n",
              "        d.source.x + ' ' + (d.target.y - options.edge_rounding) + ',' +\n",
              "        d.target.x + ' ' + d.target.y + ',' + d.target.x;\n",
              "  }\n",
              "\n",
              "  graph.append('g')\n",
              "      .attr('fill', 'none')\n",
              "      .attr('stroke-width', 1.2)\n",
              "      .selectAll('path')\n",
              "      .data(tree_struct.links())\n",
              "      .join('path')\n",
              "      .attr('d', draw_single_edge)\n",
              "      .attr(\n",
              "          'stroke', d => (d.target === d.source.children[0]) ? '#0F0' : '#F00');\n",
              "}\n",
              "\n",
              "display_tree({\"margin\": 10, \"node_x_size\": 160, \"node_y_size\": 28, \"node_x_offset\": 180, \"node_y_offset\": 33, \"font_size\": 10, \"edge_rounding\": 20, \"node_padding\": 2, \"show_plot_bounding_box\": false}, {\"value\": {\"type\": \"REGRESSION\", \"value\": 1.8951566704838996e-10, \"num_examples\": 10599.0, \"standard_deviation\": 0.2934310514974156}, \"condition\": {\"type\": \"CATEGORICAL_IS_IN\", \"attribute\": \"\\u7e23\\u5e02\", \"mask\": [\"\\u53f0\\u5317\\u5e02\"]}, \"children\": [{\"value\": {\"type\": \"REGRESSION\", \"value\": 0.04027346149086952, \"num_examples\": 2159.0, \"standard_deviation\": 0.22508679079980606}, \"condition\": {\"type\": \"CATEGORICAL_IS_IN\", \"attribute\": \"\\u9109\\u93ae\\u5e02\\u5340\", \"mask\": [\"\\u5927\\u5b89\\u5340\", \"\\u4e2d\\u5c71\\u5340\", \"\\u4fe1\\u7fa9\\u5340\", \"\\u4e2d\\u6b63\\u5340\", \"\\u677e\\u5c71\\u5340\", \"\\u5357\\u6e2f\\u5340\"]}, \"children\": [{\"value\": {\"type\": \"REGRESSION\", \"value\": 0.051185328513383865, \"num_examples\": 1183.0, \"standard_deviation\": 0.20423413874527288}, \"condition\": {\"type\": \"NUMERICAL_IS_HIGHER_THAN\", \"attribute\": \"\\u5c4b\\u9f61\", \"threshold\": 20.958332061767578}, \"children\": [{\"value\": {\"type\": \"REGRESSION\", \"value\": 0.04533234238624573, \"num_examples\": 866.0, \"standard_deviation\": 0.16177370784701295}, \"condition\": {\"type\": \"CATEGORICAL_IS_IN\", \"attribute\": \"\\u9109\\u93ae\\u5e02\\u5340\", \"mask\": [\"\\u5927\\u5b89\\u5340\"]}}, {\"value\": {\"type\": \"REGRESSION\", \"value\": 0.06717487424612045, \"num_examples\": 317.0, \"standard_deviation\": 0.22190496403628096}, \"condition\": {\"type\": \"NUMERICAL_IS_HIGHER_THAN\", \"attribute\": \"\\u7e3d\\u6a13\\u5c64\\u6578\", \"threshold\": 3.7576498985290527}}]}, {\"value\": {\"type\": \"REGRESSION\", \"value\": 0.027047298848628998, \"num_examples\": 976.0, \"standard_deviation\": 0.17201721125799108}, \"condition\": {\"type\": \"NUMERICAL_IS_HIGHER_THAN\", \"attribute\": \"\\u5c4b\\u9f61\", \"threshold\": 28.625}, \"children\": [{\"value\": {\"type\": \"REGRESSION\", \"value\": 0.017890214920043945, \"num_examples\": 529.0, \"standard_deviation\": 0.12842273314237476}, \"condition\": {\"type\": \"NUMERICAL_IS_HIGHER_THAN\", \"attribute\": \"\\u6a6b\\u5750\\u6a19\", \"threshold\": 300551.5}}, {\"value\": {\"type\": \"REGRESSION\", \"value\": 0.03788420557975769, \"num_examples\": 447.0, \"standard_deviation\": 0.15304517212162874}, \"condition\": {\"type\": \"CATEGORICAL_IS_IN\", \"attribute\": \"\\u9109\\u93ae\\u5e02\\u5340\", \"mask\": [\"\\u5167\\u6e56\\u5340\", \"\\u58eb\\u6797\\u5340\", \"\\u5927\\u540c\\u5340\"]}}]}]}, {\"value\": {\"type\": \"REGRESSION\", \"value\": -0.010302180424332619, \"num_examples\": 8440.0, \"standard_deviation\": 0.20751628875892122}, \"condition\": {\"type\": \"CATEGORICAL_IS_IN\", \"attribute\": \"\\u9109\\u93ae\\u5e02\\u5340\", \"mask\": [\"\\u677f\\u6a4b\\u5340\", \"\\u65b0\\u838a\\u5340\", \"\\u4e2d\\u548c\\u5340\", \"\\u4e09\\u91cd\\u5340\", \"\\u5927\\u5b89\\u5340\", \"\\u6c50\\u6b62\\u5340\", \"\\u5167\\u6e56\\u5340\", \"\\u7af9\\u5317\\u5e02\", \"\\u65b0\\u5e97\\u5340\", \"\\u65b0\\u7af9\\u5e02\", \"\\u571f\\u57ce\\u5340\", \"\\u6797\\u53e3\\u5340\", \"\\u6c38\\u548c\\u5340\", \"\\u897f\\u5c6f\\u5340\", \"\\u8606\\u6d32\\u5340\", \"\\u58eb\\u6797\\u5340\", \"\\u6587\\u5c71\\u5340\", \"\\u677e\\u5c71\\u5340\", \"\\u5317\\u6295\\u5340\", \"\\u5357\\u5c6f\\u5340\", \"\\u842c\\u83ef\\u5340\", \"\\u6a39\\u6797\\u5340\", \"\\u4e09\\u5cfd\\u5340\", \"\\u5927\\u540c\\u5340\", \"\\u5357\\u6e2f\\u5340\"]}, \"children\": [{\"value\": {\"type\": \"REGRESSION\", \"value\": 0.003807034809142351, \"num_examples\": 4115.0, \"standard_deviation\": 0.1635187328886422}, \"condition\": {\"type\": \"NUMERICAL_IS_HIGHER_THAN\", \"attribute\": \"\\u5c4b\\u9f61\", \"threshold\": 21.791667938232422}, \"children\": [{\"value\": {\"type\": \"REGRESSION\", \"value\": -0.002763603813946247, \"num_examples\": 2067.0, \"standard_deviation\": 0.14669818516834018}, \"condition\": {\"type\": \"NUMERICAL_IS_HIGHER_THAN\", \"attribute\": \"\\u6a6b\\u5750\\u6a19\", \"threshold\": 293784.0}}, {\"value\": {\"type\": \"REGRESSION\", \"value\": 0.010438631288707256, \"num_examples\": 2048.0, \"standard_deviation\": 0.15247824244759725}, \"condition\": {\"type\": \"NUMERICAL_IS_HIGHER_THAN\", \"attribute\": \"\\u6a6b\\u5750\\u6a19\", \"threshold\": 294445.0}}]}, {\"value\": {\"type\": \"REGRESSION\", \"value\": -0.0237263236194849, \"num_examples\": 4325.0, \"standard_deviation\": 0.1470844215814275}, \"condition\": {\"type\": \"NUMERICAL_IS_HIGHER_THAN\", \"attribute\": \"\\u5c4b\\u9f61\", \"threshold\": 21.291667938232422}, \"children\": [{\"value\": {\"type\": \"REGRESSION\", \"value\": -0.03447393327951431, \"num_examples\": 1762.0, \"standard_deviation\": 0.10791699720582563}, \"condition\": {\"type\": \"CATEGORICAL_IS_IN\", \"attribute\": \"\\u9109\\u93ae\\u5e02\\u5340\", \"mask\": [\"\\u677f\\u6a4b\\u5340\", \"\\u65b0\\u838a\\u5340\", \"\\u6843\\u5712\\u5340\", \"\\u4e2d\\u548c\\u5340\", \"\\u4e09\\u91cd\\u5340\", \"\\u5927\\u5b89\\u5340\", \"\\u6c50\\u6b62\\u5340\", \"\\u5167\\u6e56\\u5340\", \"\\u7af9\\u5317\\u5e02\", \"\\u65b0\\u5e97\\u5340\", \"\\u9f13\\u5c71\\u5340\", \"\\u65b0\\u7af9\\u5e02\", \"\\u571f\\u57ce\\u5340\", \"\\u6797\\u53e3\\u5340\", \"\\u5de6\\u71df\\u5340\", \"\\u4e2d\\u58e2\\u5340\", \"\\u6c38\\u548c\\u5340\", \"\\u897f\\u5c6f\\u5340\", \"\\u6de1\\u6c34\\u5340\", \"\\u8606\\u6d32\\u5340\", \"\\u58eb\\u6797\\u5340\", \"\\u6587\\u5c71\\u5340\", \"\\u5317\\u5c6f\\u5340\", \"\\u677e\\u5c71\\u5340\", \"\\u5317\\u6295\\u5340\", \"\\u5357\\u5c6f\\u5340\", \"\\u4e94\\u80a1\\u5340\", \"\\u5317\\u5340\", \"\\u842c\\u83ef\\u5340\", \"\\u6a39\\u6797\\u5340\", \"\\u4e09\\u5cfd\\u5340\", \"\\u8606\\u7af9\\u5340\", \"\\u5927\\u540c\\u5340\", \"\\u9f9c\\u5c71\\u5340\", \"\\u9daf\\u6b4c\\u5340\", \"\\u5357\\u6e2f\\u5340\", \"\\u6cf0\\u5c71\\u5340\", \"\\u6771\\u5340\", \"\\u897f\\u5340\", \"\\u6df1\\u5751\\u5340\", \"\\u6f6d\\u5b50\\u5340\", \"\\u516b\\u91cc\\u5340\", \"\\u6a4b\\u982d\\u5340\", \"\\u91d1\\u57ce\\u93ae\", \"\\u5584\\u5316\\u5340\", \"\\u8c50\\u539f\\u5340\", \"\\u9ce5\\u677e\\u5340\", \"\\u91d1\\u5be7\\u9109\"]}}, {\"value\": {\"type\": \"REGRESSION\", \"value\": -0.016337605193257332, \"num_examples\": 2563.0, \"standard_deviation\": 0.12288097635522861}, \"condition\": {\"type\": \"CATEGORICAL_IS_IN\", \"attribute\": \"\\u9109\\u93ae\\u5e02\\u5340\", \"mask\": [\"\\u677f\\u6a4b\\u5340\", \"\\u65b0\\u838a\\u5340\", \"\\u6843\\u5712\\u5340\", \"\\u4e2d\\u548c\\u5340\", \"\\u4e09\\u91cd\\u5340\", \"\\u5927\\u5b89\\u5340\", \"\\u6c50\\u6b62\\u5340\", \"\\u5167\\u6e56\\u5340\", \"\\u7af9\\u5317\\u5e02\", \"\\u65b0\\u5e97\\u5340\", \"\\u9f13\\u5c71\\u5340\", \"\\u65b0\\u7af9\\u5e02\", \"\\u571f\\u57ce\\u5340\", \"\\u6797\\u53e3\\u5340\", \"\\u5de6\\u71df\\u5340\", \"\\u4e2d\\u58e2\\u5340\", \"\\u6c38\\u548c\\u5340\", \"\\u897f\\u5c6f\\u5340\", \"\\u6de1\\u6c34\\u5340\", \"\\u8606\\u6d32\\u5340\", \"\\u58eb\\u6797\\u5340\", \"\\u6587\\u5c71\\u5340\", \"\\u5317\\u5c6f\\u5340\", \"\\u677e\\u5c71\\u5340\", \"\\u5317\\u6295\\u5340\", \"\\u5357\\u5c6f\\u5340\", \"\\u4e94\\u80a1\\u5340\", \"\\u5317\\u5340\", \"\\u842c\\u83ef\\u5340\", \"\\u6a39\\u6797\\u5340\", \"\\u5357\\u5340\", \"\\u6c38\\u5eb7\\u5340\", \"\\u4e09\\u5cfd\\u5340\", \"\\u8606\\u7af9\\u5340\", \"\\u5927\\u540c\\u5340\", \"\\u82d3\\u96c5\\u5340\", \"\\u9daf\\u6b4c\\u5340\", \"\\u5357\\u6e2f\\u5340\", \"\\u6cf0\\u5c71\\u5340\", \"\\u6771\\u5340\", \"\\u897f\\u5340\", \"\\u5b89\\u5e73\\u5340\", \"\\u524d\\u93ae\\u5340\", \"\\u5b89\\u6a02\\u5340\", \"\\u592a\\u5e73\\u5340\", \"\\u5927\\u91cc\\u5340\", \"\\u4e2d\\u897f\\u5340\", \"\\u524d\\u91d1\\u5340\", \"\\u7af9\\u6771\\u93ae\", \"\\u65b0\\u8208\\u5340\", \"\\u6df1\\u5751\\u5340\", \"\\u6f6d\\u5b50\\u5340\", \"\\u5927\\u5712\\u5340\", \"\\u70cf\\u65e5\\u5340\", \"\\u516b\\u91cc\\u5340\", \"\\u4e03\\u5835\\u5340\", \"\\u5b9c\\u862d\\u5e02\", \"\\u4ec1\\u611b\\u5340\", \"\\u7901\\u6eaa\\u9109\", \"\\u9e7d\\u57d5\\u5340\", \"\\u9ce5\\u677e\\u5340\"]}}]}]}]}, \"#tree_plot_5e21ceb8cf8e459183cfaae377e2cacd\")\n",
              "</script>\n"
            ]
          },
          "metadata": {},
          "execution_count": 199
        }
      ]
    },
    {
      "cell_type": "code",
      "source": [
        "predictions = model.predict(train_dataset)\n",
        "predicted_values = [p[0] for p in predictions]\n",
        "predicted_values = np.expm1(predicted_values)\n",
        "predictiondf['gbt'] = predicted_values\n",
        "y = np.expm1(y_train)\n",
        "plt.xlabel('pre')\n",
        "plt.ylabel('truth')\n",
        "plt.scatter(predicted_values ,y.values)\n",
        "\n",
        "plt.legend()\n",
        "plt.show()"
      ],
      "metadata": {
        "colab": {
          "base_uri": "https://localhost:8080/",
          "height": 503
        },
        "id": "fDaQCJb6HLzg",
        "outputId": "c41b99e1-d150-4fd8-90c1-b3bb5723aee2"
      },
      "execution_count": null,
      "outputs": [
        {
          "output_type": "stream",
          "name": "stdout",
          "text": [
            "12/12 [==============================] - 1s 60ms/step\n"
          ]
        },
        {
          "output_type": "stream",
          "name": "stderr",
          "text": [
            "WARNING:matplotlib.legend:No artists with labels found to put in legend.  Note that artists whose label start with an underscore are ignored when legend() is called with no argument.\n"
          ]
        },
        {
          "output_type": "display_data",
          "data": {
            "text/plain": [
              "<Figure size 640x480 with 1 Axes>"
            ],
            "image/png": "[encoded data removed]"
          },
          "metadata": {}
        }
      ]
    },
    {
      "cell_type": "code",
      "source": [
        "SUM=0\n",
        "for i in range(len(y.values)):\n",
        "  SUM+=(abs(predicted_values[i]-y.values[i])/y.values[i])\n",
        "print(SUM/len(predicted_values)*100)"
      ],
      "metadata": {
        "colab": {
          "base_uri": "https://localhost:8080/"
        },
        "id": "HHLyDJOfXhpp",
        "outputId": "648dac9d-c6b6-42b4-e648-108ae281c463"
      },
      "execution_count": null,
      "outputs": [
        {
          "output_type": "stream",
          "name": "stdout",
          "text": [
            "3.5820814414349305\n"
          ]
        }
      ]
    },
    {
      "cell_type": "code",
      "source": [
        "predict_dataset = tfdf.keras.pd_dataframe_to_tf_dataset(x_pred, task = tfdf.keras.Task.REGRESSION)\n",
        "predictions = model.predict(predict_dataset)\n",
        "\n",
        "# 取得預測結果\n",
        "predicted_values = [p[0] for p in predictions]\n",
        "predicted_values = np.expm1(predicted_values)\n",
        "predf['gbt']=predicted_values\n",
        "plt.xlabel('pre')\n",
        "plt.ylabel('truth')\n",
        "plt.scatter(predicted_values ,predicted_values)\n",
        "\n",
        "plt.legend()\n",
        "plt.show()"
      ],
      "metadata": {
        "colab": {
          "base_uri": "https://localhost:8080/",
          "height": 503
        },
        "id": "eDJdQavvLbcD",
        "outputId": "74190963-91d4-4377-9aa4-69535b4f13bd"
      },
      "execution_count": null,
      "outputs": [
        {
          "output_type": "stream",
          "name": "stdout",
          "text": [
            "6/6 [==============================] - 0s 43ms/step\n"
          ]
        },
        {
          "output_type": "stream",
          "name": "stderr",
          "text": [
            "WARNING:matplotlib.legend:No artists with labels found to put in legend.  Note that artists whose label start with an underscore are ignored when legend() is called with no argument.\n"
          ]
        },
        {
          "output_type": "display_data",
          "data": {
            "text/plain": [
              "<Figure size 640x480 with 1 Axes>"
            ],
            "image/png": "[encoded data removed]"
          },
          "metadata": {}
        }
      ]
    },
    {
      "cell_type": "markdown",
      "source": [
        "# **Random Forest**"
      ],
      "metadata": {
        "id": "_88shHF3jvQ9"
      }
    },
    {
      "cell_type": "code",
      "source": [
        "rf = tfdf.keras.RandomForestModel(task = tfdf.keras.Task.REGRESSION)\n",
        "rf.compile(metrics=[\"mape\"])\n",
        "rf.fit(train_dataset)\n",
        "tfdf.model_plotter.plot_model_in_colab(rf, tree_idx=0, max_depth=3)\n"
      ],
      "metadata": {
        "colab": {
          "base_uri": "https://localhost:8080/",
          "height": 523
        },
        "id": "vudWJQJrhOVM",
        "outputId": "49127c80-9f3d-4dcf-be0e-d13c1fea5379"
      },
      "execution_count": null,
      "outputs": [
        {
          "output_type": "stream",
          "name": "stdout",
          "text": [
            "Use /tmp/tmp68c2g3fd as temporary training directory\n",
            "Reading training dataset...\n",
            "Training dataset read in 0:00:00.454715. Found 11751 examples.\n",
            "Training model...\n",
            "Model trained in 0:02:10.481343\n",
            "Compiling model...\n",
            "Model compiled.\n"
          ]
        },
        {
          "output_type": "execute_result",
          "data": {
            "text/plain": [
              "<IPython.core.display.HTML object>"
            ],
            "text/html": [
              "\n",
              "<script src=\"https://d3js.org/d3.v6.min.js\"></script>\n",
              "<div id=\"tree_plot_2f2ab11138644197a97de092feef8e67\"></div>\n",
              "<script>\n",
              "/*\n",
              " * Copyright 2021 Google LLC.\n",
              " * Licensed under the Apache License, Version 2.0 (the \"License\");\n",
              " * you may not use this file except in compliance with the License.\n",
              " * You may obtain a copy of the License at\n",
              " *\n",
              " *     https://www.apache.org/licenses/LICENSE-2.0\n",
              " *\n",
              " * Unless required by applicable law or agreed to in writing, software\n",
              " * distributed under the License is distributed on an \"AS IS\" BASIS,\n",
              " * WITHOUT WARRANTIES OR CONDITIONS OF ANY KIND, either express or implied.\n",
              " * See the License for the specific language governing permissions and\n",
              " * limitations under the License.\n",
              " */\n",
              "\n",
              "/**\n",
              " *  Plotting of decision trees generated by TF-DF.\n",
              " *\n",
              " *  A tree is a recursive structure of node objects.\n",
              " *  A node contains one or more of the following components:\n",
              " *\n",
              " *    - A value: Representing the output of the node. If the node is not a leaf,\n",
              " *      the value is only present for analysis i.e. it is not used for\n",
              " *      predictions.\n",
              " *\n",
              " *    - A condition : For non-leaf nodes, the condition (also known as split)\n",
              " *      defines a binary test to branch to the positive or negative child.\n",
              " *\n",
              " *    - An explanation: Generally a plot showing the relation between the label\n",
              " *      and the condition to give insights about the effect of the condition.\n",
              " *\n",
              " *    - Two children : For non-leaf nodes, the children nodes. The first\n",
              " *      children (i.e. \"node.children[0]\") is the negative children (drawn in\n",
              " *      red). The second children is the positive one (drawn in green).\n",
              " *\n",
              " */\n",
              "\n",
              "/**\n",
              " * Plots a single decision tree into a DOM element.\n",
              " * @param {!options} options Dictionary of configurations.\n",
              " * @param {!tree} raw_tree Recursive tree structure.\n",
              " * @param {string} canvas_id Id of the output dom element.\n",
              " */\n",
              "function display_tree(options, raw_tree, canvas_id) {\n",
              "  console.log(options);\n",
              "\n",
              "  // Determine the node placement.\n",
              "  const tree_struct = d3.tree().nodeSize(\n",
              "      [options.node_y_offset, options.node_x_offset])(d3.hierarchy(raw_tree));\n",
              "\n",
              "  // Boundaries of the node placement.\n",
              "  let x_min = Infinity;\n",
              "  let x_max = -x_min;\n",
              "  let y_min = Infinity;\n",
              "  let y_max = -x_min;\n",
              "\n",
              "  tree_struct.each(d => {\n",
              "    if (d.x > x_max) x_max = d.x;\n",
              "    if (d.x < x_min) x_min = d.x;\n",
              "    if (d.y > y_max) y_max = d.y;\n",
              "    if (d.y < y_min) y_min = d.y;\n",
              "  });\n",
              "\n",
              "  // Size of the plot.\n",
              "  const width = y_max - y_min + options.node_x_size + options.margin * 2;\n",
              "  const height = x_max - x_min + options.node_y_size + options.margin * 2 +\n",
              "      options.node_y_offset - options.node_y_size;\n",
              "\n",
              "  const plot = d3.select(canvas_id);\n",
              "\n",
              "  // Tool tip\n",
              "  options.tooltip = plot.append('div')\n",
              "                        .attr('width', 100)\n",
              "                        .attr('height', 100)\n",
              "                        .style('padding', '4px')\n",
              "                        .style('background', '#fff')\n",
              "                        .style('box-shadow', '4px 4px 0px rgba(0,0,0,0.1)')\n",
              "                        .style('border', '1px solid black')\n",
              "                        .style('font-family', 'sans-serif')\n",
              "                        .style('font-size', options.font_size)\n",
              "                        .style('position', 'absolute')\n",
              "                        .style('z-index', '10')\n",
              "                        .attr('pointer-events', 'none')\n",
              "                        .style('display', 'none');\n",
              "\n",
              "  // Create canvas\n",
              "  const svg = plot.append('svg').attr('width', width).attr('height', height);\n",
              "  const graph =\n",
              "      svg.style('overflow', 'visible')\n",
              "          .append('g')\n",
              "          .attr('font-family', 'sans-serif')\n",
              "          .attr('font-size', options.font_size)\n",
              "          .attr(\n",
              "              'transform',\n",
              "              () => `translate(${options.margin},${\n",
              "                  - x_min + options.node_y_offset / 2 + options.margin})`);\n",
              "\n",
              "  // Plot bounding box.\n",
              "  if (options.show_plot_bounding_box) {\n",
              "    svg.append('rect')\n",
              "        .attr('width', width)\n",
              "        .attr('height', height)\n",
              "        .attr('fill', 'none')\n",
              "        .attr('stroke-width', 1.0)\n",
              "        .attr('stroke', 'black');\n",
              "  }\n",
              "\n",
              "  // Draw the edges.\n",
              "  display_edges(options, graph, tree_struct);\n",
              "\n",
              "  // Draw the nodes.\n",
              "  display_nodes(options, graph, tree_struct);\n",
              "}\n",
              "\n",
              "/**\n",
              " * Draw the nodes of the tree.\n",
              " * @param {!options} options Dictionary of configurations.\n",
              " * @param {!graph} graph D3 search handle containing the graph.\n",
              " * @param {!tree_struct} tree_struct Structure of the tree (node placement,\n",
              " *     data, etc.).\n",
              " */\n",
              "function display_nodes(options, graph, tree_struct) {\n",
              "  const nodes = graph.append('g')\n",
              "                    .selectAll('g')\n",
              "                    .data(tree_struct.descendants())\n",
              "                    .join('g')\n",
              "                    .attr('transform', d => `translate(${d.y},${d.x})`);\n",
              "\n",
              "  nodes.append('rect')\n",
              "      .attr('x', 0.5)\n",
              "      .attr('y', 0.5)\n",
              "      .attr('width', options.node_x_size)\n",
              "      .attr('height', options.node_y_size)\n",
              "      .attr('stroke', 'lightgrey')\n",
              "      .attr('stroke-width', 1)\n",
              "      .attr('fill', 'white')\n",
              "      .attr('y', -options.node_y_size / 2);\n",
              "\n",
              "  // Brackets on the right of condition nodes without children.\n",
              "  non_leaf_node_without_children =\n",
              "      nodes.filter(node => node.data.condition != null && node.children == null)\n",
              "          .append('g')\n",
              "          .attr('transform', `translate(${options.node_x_size},0)`);\n",
              "\n",
              "  non_leaf_node_without_children.append('path')\n",
              "      .attr('d', 'M0,0 C 10,0 0,10 10,10')\n",
              "      .attr('fill', 'none')\n",
              "      .attr('stroke-width', 1.0)\n",
              "      .attr('stroke', '#F00');\n",
              "\n",
              "  non_leaf_node_without_children.append('path')\n",
              "      .attr('d', 'M0,0 C 10,0 0,-10 10,-10')\n",
              "      .attr('fill', 'none')\n",
              "      .attr('stroke-width', 1.0)\n",
              "      .attr('stroke', '#0F0');\n",
              "\n",
              "  const node_content = nodes.append('g').attr(\n",
              "      'transform',\n",
              "      `translate(0,${options.node_padding - options.node_y_size / 2})`);\n",
              "\n",
              "  node_content.append(node => create_node_element(options, node));\n",
              "}\n",
              "\n",
              "/**\n",
              " * Creates the D3 content for a single node.\n",
              " * @param {!options} options Dictionary of configurations.\n",
              " * @param {!node} node Node to draw.\n",
              " * @return {!d3} D3 content.\n",
              " */\n",
              "function create_node_element(options, node) {\n",
              "  // Output accumulator.\n",
              "  let output = {\n",
              "    // Content to draw.\n",
              "    content: d3.create('svg:g'),\n",
              "    // Vertical offset to the next element to draw.\n",
              "    vertical_offset: 0\n",
              "  };\n",
              "\n",
              "  // Conditions.\n",
              "  if (node.data.condition != null) {\n",
              "    display_condition(options, node.data.condition, output);\n",
              "  }\n",
              "\n",
              "  // Values.\n",
              "  if (node.data.value != null) {\n",
              "    display_value(options, node.data.value, output);\n",
              "  }\n",
              "\n",
              "  // Explanations.\n",
              "  if (node.data.explanation != null) {\n",
              "    display_explanation(options, node.data.explanation, output);\n",
              "  }\n",
              "\n",
              "  return output.content.node();\n",
              "}\n",
              "\n",
              "\n",
              "/**\n",
              " * Adds a single line of text inside of a node.\n",
              " * @param {!options} options Dictionary of configurations.\n",
              " * @param {string} text Text to display.\n",
              " * @param {!output} output Output display accumulator.\n",
              " */\n",
              "function display_node_text(options, text, output) {\n",
              "  output.content.append('text')\n",
              "      .attr('x', options.node_padding)\n",
              "      .attr('y', output.vertical_offset)\n",
              "      .attr('alignment-baseline', 'hanging')\n",
              "      .text(text);\n",
              "  output.vertical_offset += 10;\n",
              "}\n",
              "\n",
              "/**\n",
              " * Adds a single line of text inside of a node with a tooltip.\n",
              " * @param {!options} options Dictionary of configurations.\n",
              " * @param {string} text Text to display.\n",
              " * @param {string} tooltip Text in the Tooltip.\n",
              " * @param {!output} output Output display accumulator.\n",
              " */\n",
              "function display_node_text_with_tooltip(options, text, tooltip, output) {\n",
              "  const item = output.content.append('text')\n",
              "                   .attr('x', options.node_padding)\n",
              "                   .attr('alignment-baseline', 'hanging')\n",
              "                   .text(text);\n",
              "\n",
              "  add_tooltip(options, item, () => tooltip);\n",
              "  output.vertical_offset += 10;\n",
              "}\n",
              "\n",
              "/**\n",
              " * Adds a tooltip to a dom element.\n",
              " * @param {!options} options Dictionary of configurations.\n",
              " * @param {!dom} target Dom element to equip with a tooltip.\n",
              " * @param {!func} get_content Generates the html content of the tooltip.\n",
              " */\n",
              "function add_tooltip(options, target, get_content) {\n",
              "  function show(d) {\n",
              "    options.tooltip.style('display', 'block');\n",
              "    options.tooltip.html(get_content());\n",
              "  }\n",
              "\n",
              "  function hide(d) {\n",
              "    options.tooltip.style('display', 'none');\n",
              "  }\n",
              "\n",
              "  function move(d) {\n",
              "    options.tooltip.style('display', 'block');\n",
              "    options.tooltip.style('left', (d.pageX + 5) + 'px');\n",
              "    options.tooltip.style('top', d.pageY + 'px');\n",
              "  }\n",
              "\n",
              "  target.on('mouseover', show);\n",
              "  target.on('mouseout', hide);\n",
              "  target.on('mousemove', move);\n",
              "}\n",
              "\n",
              "/**\n",
              " * Adds a condition inside of a node.\n",
              " * @param {!options} options Dictionary of configurations.\n",
              " * @param {!condition} condition Condition to display.\n",
              " * @param {!output} output Output display accumulator.\n",
              " */\n",
              "function display_condition(options, condition, output) {\n",
              "  threshold_format = d3.format('r');\n",
              "\n",
              "  if (condition.type === 'IS_MISSING') {\n",
              "    display_node_text(options, `${condition.attribute} is missing`, output);\n",
              "    return;\n",
              "  }\n",
              "\n",
              "  if (condition.type === 'IS_TRUE') {\n",
              "    display_node_text(options, `${condition.attribute} is true`, output);\n",
              "    return;\n",
              "  }\n",
              "\n",
              "  if (condition.type === 'NUMERICAL_IS_HIGHER_THAN') {\n",
              "    format = d3.format('r');\n",
              "    display_node_text(\n",
              "        options,\n",
              "        `${condition.attribute} >= ${threshold_format(condition.threshold)}`,\n",
              "        output);\n",
              "    return;\n",
              "  }\n",
              "\n",
              "  if (condition.type === 'CATEGORICAL_IS_IN') {\n",
              "    display_node_text_with_tooltip(\n",
              "        options, `${condition.attribute} in [...]`,\n",
              "        `${condition.attribute} in [${condition.mask}]`, output);\n",
              "    return;\n",
              "  }\n",
              "\n",
              "  if (condition.type === 'CATEGORICAL_SET_CONTAINS') {\n",
              "    display_node_text_with_tooltip(\n",
              "        options, `${condition.attribute} intersect [...]`,\n",
              "        `${condition.attribute} intersect [${condition.mask}]`, output);\n",
              "    return;\n",
              "  }\n",
              "\n",
              "  if (condition.type === 'NUMERICAL_SPARSE_OBLIQUE') {\n",
              "    display_node_text_with_tooltip(\n",
              "        options, `Sparse oblique split...`,\n",
              "        `[${condition.attributes}]*[${condition.weights}]>=${\n",
              "            threshold_format(condition.threshold)}`,\n",
              "        output);\n",
              "    return;\n",
              "  }\n",
              "\n",
              "  display_node_text(\n",
              "      options, `Non supported condition ${condition.type}`, output);\n",
              "}\n",
              "\n",
              "/**\n",
              " * Adds a value inside of a node.\n",
              " * @param {!options} options Dictionary of configurations.\n",
              " * @param {!value} value Value to display.\n",
              " * @param {!output} output Output display accumulator.\n",
              " */\n",
              "function display_value(options, value, output) {\n",
              "  if (value.type === 'PROBABILITY') {\n",
              "    const left_margin = 0;\n",
              "    const right_margin = 50;\n",
              "    const plot_width = options.node_x_size - options.node_padding * 2 -\n",
              "        left_margin - right_margin;\n",
              "\n",
              "    let cusum = Array.from(d3.cumsum(value.distribution));\n",
              "    cusum.unshift(0);\n",
              "    const distribution_plot = output.content.append('g').attr(\n",
              "        'transform', `translate(0,${output.vertical_offset + 0.5})`);\n",
              "\n",
              "    distribution_plot.selectAll('rect')\n",
              "        .data(value.distribution)\n",
              "        .join('rect')\n",
              "        .attr('height', 10)\n",
              "        .attr(\n",
              "            'x',\n",
              "            (d, i) =>\n",
              "                (cusum[i] * plot_width + left_margin + options.node_padding))\n",
              "        .attr('width', (d, i) => d * plot_width)\n",
              "        .style('fill', (d, i) => d3.schemeSet1[i]);\n",
              "\n",
              "    const num_examples =\n",
              "        output.content.append('g')\n",
              "            .attr('transform', `translate(0,${output.vertical_offset})`)\n",
              "            .append('text')\n",
              "            .attr('x', options.node_x_size - options.node_padding)\n",
              "            .attr('alignment-baseline', 'hanging')\n",
              "            .attr('text-anchor', 'end')\n",
              "            .text(`(${value.num_examples})`);\n",
              "\n",
              "    const distribution_details = d3.create('ul');\n",
              "    distribution_details.selectAll('li')\n",
              "        .data(value.distribution)\n",
              "        .join('li')\n",
              "        .append('span')\n",
              "        .text(\n",
              "            (d, i) =>\n",
              "                'class ' + i + ': ' + d3.format('.3%')(value.distribution[i]));\n",
              "\n",
              "    add_tooltip(options, distribution_plot, () => distribution_details.html());\n",
              "    add_tooltip(options, num_examples, () => 'Number of examples');\n",
              "\n",
              "    output.vertical_offset += 10;\n",
              "    return;\n",
              "  }\n",
              "\n",
              "  if (value.type === 'REGRESSION') {\n",
              "    display_node_text(\n",
              "        options,\n",
              "        'value: ' + d3.format('r')(value.value) + ` (` +\n",
              "            d3.format('.6')(value.num_examples) + `)`,\n",
              "        output);\n",
              "    return;\n",
              "  }\n",
              "\n",
              "  if (value.type === 'UPLIFT') {\n",
              "    display_node_text(\n",
              "        options,\n",
              "        'effect: ' + d3.format('r')(value.treatment_effect) + ` (` +\n",
              "            d3.format('.6')(value.num_examples) + `)`,\n",
              "        output);\n",
              "    return;\n",
              "  }\n",
              "\n",
              "  display_node_text(options, `Non supported value ${value.type}`, output);\n",
              "}\n",
              "\n",
              "/**\n",
              " * Adds an explanation inside of a node.\n",
              " * @param {!options} options Dictionary of configurations.\n",
              " * @param {!explanation} explanation Explanation to display.\n",
              " * @param {!output} output Output display accumulator.\n",
              " */\n",
              "function display_explanation(options, explanation, output) {\n",
              "  // Margin before the explanation.\n",
              "  output.vertical_offset += 10;\n",
              "\n",
              "  display_node_text(\n",
              "      options, `Non supported explanation ${explanation.type}`, output);\n",
              "}\n",
              "\n",
              "\n",
              "/**\n",
              " * Draw the edges of the tree.\n",
              " * @param {!options} options Dictionary of configurations.\n",
              " * @param {!graph} graph D3 search handle containing the graph.\n",
              " * @param {!tree_struct} tree_struct Structure of the tree (node placement,\n",
              " *     data, etc.).\n",
              " */\n",
              "function display_edges(options, graph, tree_struct) {\n",
              "  // Draw an edge between a parent and a child node with a bezier.\n",
              "  function draw_single_edge(d) {\n",
              "    return 'M' + (d.source.y + options.node_x_size) + ',' + d.source.x + ' C' +\n",
              "        (d.source.y + options.node_x_size + options.edge_rounding) + ',' +\n",
              "        d.source.x + ' ' + (d.target.y - options.edge_rounding) + ',' +\n",
              "        d.target.x + ' ' + d.target.y + ',' + d.target.x;\n",
              "  }\n",
              "\n",
              "  graph.append('g')\n",
              "      .attr('fill', 'none')\n",
              "      .attr('stroke-width', 1.2)\n",
              "      .selectAll('path')\n",
              "      .data(tree_struct.links())\n",
              "      .join('path')\n",
              "      .attr('d', draw_single_edge)\n",
              "      .attr(\n",
              "          'stroke', d => (d.target === d.source.children[0]) ? '#0F0' : '#F00');\n",
              "}\n",
              "\n",
              "display_tree({\"margin\": 10, \"node_x_size\": 160, \"node_y_size\": 28, \"node_x_offset\": 180, \"node_y_offset\": 33, \"font_size\": 10, \"edge_rounding\": 20, \"node_padding\": 2, \"show_plot_bounding_box\": false}, {\"value\": {\"type\": \"REGRESSION\", \"value\": 1.0526399612426758, \"num_examples\": 11751.0, \"standard_deviation\": 0.2938155022733419}, \"condition\": {\"type\": \"NUMERICAL_IS_HIGHER_THAN\", \"attribute\": \"\\u5efa\\u7269\\u9762\\u7a4d\", \"threshold\": -0.18987232446670532}, \"children\": [{\"value\": {\"type\": \"REGRESSION\", \"value\": 1.0403528213500977, \"num_examples\": 11236.0, \"standard_deviation\": 0.2864168471647806}, \"condition\": {\"type\": \"CATEGORICAL_IS_IN\", \"attribute\": \"\\u7e23\\u5e02\", \"mask\": [\"\\u53f0\\u5317\\u5e02\"]}, \"children\": [{\"value\": {\"type\": \"REGRESSION\", \"value\": 1.4406172037124634, \"num_examples\": 2185.0, \"standard_deviation\": 0.22403893456814128}, \"condition\": {\"type\": \"NUMERICAL_IS_HIGHER_THAN\", \"attribute\": \"\\u5c4b\\u9f61\", \"threshold\": 20.958332061767578}, \"children\": [{\"value\": {\"type\": \"REGRESSION\", \"value\": 1.380846381187439, \"num_examples\": 1553.0, \"standard_deviation\": 0.1965988305011335}, \"condition\": {\"type\": \"NUMERICAL_IS_HIGHER_THAN\", \"attribute\": \"\\u7e3d\\u6a13\\u5c64\\u6578\", \"threshold\": 2.2469654083251953}}, {\"value\": {\"type\": \"REGRESSION\", \"value\": 1.5874905586242676, \"num_examples\": 632.0, \"standard_deviation\": 0.21955790337146228}, \"condition\": {\"type\": \"CATEGORICAL_IS_IN\", \"attribute\": \"\\u9109\\u93ae\\u5e02\\u5340\", \"mask\": [\"\\u5927\\u5b89\\u5340\", \"\\u4e2d\\u5c71\\u5340\", \"\\u4fe1\\u7fa9\\u5340\", \"\\u4e2d\\u6b63\\u5340\", \"\\u677e\\u5c71\\u5340\"]}}]}, {\"value\": {\"type\": \"REGRESSION\", \"value\": 0.943725049495697, \"num_examples\": 9051.0, \"standard_deviation\": 0.20422490785131958}, \"condition\": {\"type\": \"CATEGORICAL_IS_IN\", \"attribute\": \"\\u9109\\u93ae\\u5e02\\u5340\", \"mask\": [\"\\u677f\\u6a4b\\u5340\", \"\\u65b0\\u838a\\u5340\", \"\\u4e2d\\u548c\\u5340\", \"\\u4e09\\u91cd\\u5340\", \"\\u6c50\\u6b62\\u5340\", \"\\u7af9\\u5317\\u5e02\", \"\\u65b0\\u5e97\\u5340\", \"\\u65b0\\u7af9\\u5e02\", \"\\u571f\\u57ce\\u5340\", \"\\u6797\\u53e3\\u5340\", \"\\u6c38\\u548c\\u5340\", \"\\u897f\\u5c6f\\u5340\", \"\\u8606\\u6d32\\u5340\", \"\\u5357\\u5c6f\\u5340\", \"\\u6a39\\u6797\\u5340\", \"\\u4e09\\u5cfd\\u5340\", \"\\u6cf0\\u5c71\\u5340\"]}, \"children\": [{\"value\": {\"type\": \"REGRESSION\", \"value\": 1.08091139793396, \"num_examples\": 4426.0, \"standard_deviation\": 0.16097782609064767}, \"condition\": {\"type\": \"CATEGORICAL_IS_IN\", \"attribute\": \"\\u9109\\u93ae\\u5e02\\u5340\", \"mask\": [\"\\u677f\\u6a4b\\u5340\", \"\\u65b0\\u838a\\u5340\", \"\\u4e2d\\u548c\\u5340\", \"\\u4e09\\u91cd\\u5340\", \"\\u7af9\\u5317\\u5e02\", \"\\u65b0\\u5e97\\u5340\", \"\\u571f\\u57ce\\u5340\", \"\\u6c38\\u548c\\u5340\", \"\\u8606\\u6d32\\u5340\"]}}, {\"value\": {\"type\": \"REGRESSION\", \"value\": 0.8124414086341858, \"num_examples\": 4625.0, \"standard_deviation\": 0.14688940924384397}, \"condition\": {\"type\": \"NUMERICAL_IS_HIGHER_THAN\", \"attribute\": \"\\u8eca\\u4f4d\\u9762\\u7a4d\", \"threshold\": 0.5133901238441467}}]}]}, {\"value\": {\"type\": \"REGRESSION\", \"value\": 1.3207148313522339, \"num_examples\": 515.0, \"standard_deviation\": 0.3237755627817806}, \"condition\": {\"type\": \"CATEGORICAL_IS_IN\", \"attribute\": \"\\u9109\\u93ae\\u5e02\\u5340\", \"mask\": [\"\\u5927\\u5b89\\u5340\", \"\\u4e2d\\u5c71\\u5340\", \"\\u5167\\u6e56\\u5340\", \"\\u4fe1\\u7fa9\\u5340\", \"\\u4e2d\\u6b63\\u5340\", \"\\u6587\\u5c71\\u5340\", \"\\u677e\\u5c71\\u5340\", \"\\u5317\\u6295\\u5340\", \"\\u5927\\u540c\\u5340\", \"\\u5357\\u6e2f\\u5340\"]}, \"children\": [{\"value\": {\"type\": \"REGRESSION\", \"value\": 1.5752885341644287, \"num_examples\": 240.0, \"standard_deviation\": 0.2177247113308969}, \"condition\": {\"type\": \"CATEGORICAL_IS_IN\", \"attribute\": \"\\u9109\\u93ae\\u5e02\\u5340\", \"mask\": [\"\\u5927\\u5b89\\u5340\", \"\\u4fe1\\u7fa9\\u5340\", \"\\u677e\\u5c71\\u5340\"]}, \"children\": [{\"value\": {\"type\": \"REGRESSION\", \"value\": 1.7270029783248901, \"num_examples\": 80.0, \"standard_deviation\": 0.19085897384945436}, \"condition\": {\"type\": \"NUMERICAL_IS_HIGHER_THAN\", \"attribute\": \"\\u5c4b\\u9f61\", \"threshold\": 21.041667938232422}}, {\"value\": {\"type\": \"REGRESSION\", \"value\": 1.4994313716888428, \"num_examples\": 160.0, \"standard_deviation\": 0.1887579236638021}, \"condition\": {\"type\": \"NUMERICAL_IS_HIGHER_THAN\", \"attribute\": \"\\u5c4b\\u9f61\", \"threshold\": 21.25}}]}, {\"value\": {\"type\": \"REGRESSION\", \"value\": 1.0985413789749146, \"num_examples\": 275.0, \"standard_deviation\": 0.22142212804729797}, \"condition\": {\"type\": \"NUMERICAL_IS_HIGHER_THAN\", \"attribute\": \"\\u7e3d\\u6a13\\u5c64\\u6578\", \"threshold\": 2.5450878143310547}, \"children\": [{\"value\": {\"type\": \"REGRESSION\", \"value\": 1.1648902893066406, \"num_examples\": 162.0, \"standard_deviation\": 0.2145235148204952}, \"condition\": {\"type\": \"NUMERICAL_IS_HIGHER_THAN\", \"attribute\": \"\\u6a6b\\u5750\\u6a19\", \"threshold\": 295636.5}}, {\"value\": {\"type\": \"REGRESSION\", \"value\": 1.003421664237976, \"num_examples\": 113.0, \"standard_deviation\": 0.19488572646372965}, \"condition\": {\"type\": \"CATEGORICAL_IS_IN\", \"attribute\": \"\\u9109\\u93ae\\u5e02\\u5340\", \"mask\": [\"\\u677f\\u6a4b\\u5340\", \"\\u65b0\\u838a\\u5340\", \"\\u4e2d\\u548c\\u5340\", \"\\u4e09\\u91cd\\u5340\", \"\\u6c50\\u6b62\\u5340\", \"\\u571f\\u57ce\\u5340\", \"\\u6c38\\u548c\\u5340\", \"\\u8606\\u6d32\\u5340\", \"\\u58eb\\u6797\\u5340\", \"\\u842c\\u83ef\\u5340\", \"\\u6cf0\\u5c71\\u5340\"]}}]}]}]}, \"#tree_plot_2f2ab11138644197a97de092feef8e67\")\n",
              "</script>\n"
            ]
          },
          "metadata": {},
          "execution_count": 203
        }
      ]
    },
    {
      "cell_type": "code",
      "source": [
        "predictions = rf.predict(train_dataset)\n",
        "predicted_values = [p[0] for p in predictions]\n",
        "predicted_values = np.expm1(predicted_values)\n",
        "predictiondf['rf'] = predicted_values\n",
        "y = np.expm1(y_train)\n",
        "plt.xlabel('pre')\n",
        "plt.ylabel('truth')\n",
        "plt.scatter(predicted_values ,y.values)\n",
        "\n",
        "plt.legend()\n",
        "plt.show()"
      ],
      "metadata": {
        "colab": {
          "base_uri": "https://localhost:8080/",
          "height": 503
        },
        "id": "FzGpbSsnjfAE",
        "outputId": "3750aef0-fd4e-4022-f7a1-d4be16166092"
      },
      "execution_count": null,
      "outputs": [
        {
          "output_type": "stream",
          "name": "stdout",
          "text": [
            "12/12 [==============================] - 2s 181ms/step\n"
          ]
        },
        {
          "output_type": "stream",
          "name": "stderr",
          "text": [
            "WARNING:matplotlib.legend:No artists with labels found to put in legend.  Note that artists whose label start with an underscore are ignored when legend() is called with no argument.\n"
          ]
        },
        {
          "output_type": "display_data",
          "data": {
            "text/plain": [
              "<Figure size 640x480 with 1 Axes>"
            ],
            "image/png": "[encoded data removed]"
          },
          "metadata": {}
        }
      ]
    },
    {
      "cell_type": "code",
      "source": [
        "SUM=0\n",
        "for i in range(len(y.values)):\n",
        "  SUM+=(abs(predicted_values[i]-y.values[i])/y.values[i])\n",
        "print(SUM/len(predicted_values)*100)"
      ],
      "metadata": {
        "colab": {
          "base_uri": "https://localhost:8080/"
        },
        "id": "Ib3ULorKjn9T",
        "outputId": "e3267233-50a2-462c-face-2699e48432d1"
      },
      "execution_count": null,
      "outputs": [
        {
          "output_type": "stream",
          "name": "stdout",
          "text": [
            "5.594517268542442\n"
          ]
        }
      ]
    },
    {
      "cell_type": "code",
      "source": [
        "predictions = rf.predict(predict_dataset)\n",
        "predicted_values = [p[0] for p in predictions]\n",
        "predicted_values = np.expm1(predicted_values)\n",
        "predf['rf']=predicted_values\n",
        "plt.xlabel('pre')\n",
        "plt.ylabel('truth')\n",
        "plt.scatter(predicted_values ,predicted_values)\n",
        "\n",
        "plt.legend()\n",
        "plt.show()"
      ],
      "metadata": {
        "colab": {
          "base_uri": "https://localhost:8080/",
          "height": 503
        },
        "id": "RJmYlZKqjrXT",
        "outputId": "abecbc73-f6b4-438c-85b2-e4bb5a456646"
      },
      "execution_count": null,
      "outputs": [
        {
          "output_type": "stream",
          "name": "stdout",
          "text": [
            "6/6 [==============================] - 1s 134ms/step\n"
          ]
        },
        {
          "output_type": "stream",
          "name": "stderr",
          "text": [
            "WARNING:matplotlib.legend:No artists with labels found to put in legend.  Note that artists whose label start with an underscore are ignored when legend() is called with no argument.\n"
          ]
        },
        {
          "output_type": "display_data",
          "data": {
            "text/plain": [
              "<Figure size 640x480 with 1 Axes>"
            ],
            "image/png": "[encoded data removed]"
          },
          "metadata": {}
        }
      ]
    },
    {
      "cell_type": "markdown",
      "source": [
        "# **Cart Model**"
      ],
      "metadata": {
        "id": "CnQVbiKNmWOw"
      }
    },
    {
      "cell_type": "code",
      "source": [
        "cart = tfdf.keras.CartModel(task = tfdf.keras.Task.REGRESSION)\n",
        "cart.compile(metrics=[\"mape\"])\n",
        "cart.fit(train_dataset)\n",
        "tfdf.model_plotter.plot_model_in_colab(cart, tree_idx=0, max_depth=3)\n"
      ],
      "metadata": {
        "colab": {
          "base_uri": "https://localhost:8080/",
          "height": 523
        },
        "id": "2-LbMC6BmTlg",
        "outputId": "97a5b966-5525-4091-874d-0ba01f5ea958"
      },
      "execution_count": null,
      "outputs": [
        {
          "output_type": "stream",
          "name": "stdout",
          "text": [
            "Use /tmp/tmphpbxcqs7 as temporary training directory\n",
            "Reading training dataset...\n",
            "Training dataset read in 0:00:00.466770. Found 11751 examples.\n",
            "Training model...\n",
            "Model trained in 0:00:00.636141\n",
            "Compiling model...\n",
            "Model compiled.\n"
          ]
        },
        {
          "output_type": "execute_result",
          "data": {
            "text/plain": [
              "<IPython.core.display.HTML object>"
            ],
            "text/html": [
              "\n",
              "<script src=\"https://d3js.org/d3.v6.min.js\"></script>\n",
              "<div id=\"tree_plot_b0c1096da7774c7ab9566248468eae82\"></div>\n",
              "<script>\n",
              "/*\n",
              " * Copyright 2021 Google LLC.\n",
              " * Licensed under the Apache License, Version 2.0 (the \"License\");\n",
              " * you may not use this file except in compliance with the License.\n",
              " * You may obtain a copy of the License at\n",
              " *\n",
              " *     https://www.apache.org/licenses/LICENSE-2.0\n",
              " *\n",
              " * Unless required by applicable law or agreed to in writing, software\n",
              " * distributed under the License is distributed on an \"AS IS\" BASIS,\n",
              " * WITHOUT WARRANTIES OR CONDITIONS OF ANY KIND, either express or implied.\n",
              " * See the License for the specific language governing permissions and\n",
              " * limitations under the License.\n",
              " */\n",
              "\n",
              "/**\n",
              " *  Plotting of decision trees generated by TF-DF.\n",
              " *\n",
              " *  A tree is a recursive structure of node objects.\n",
              " *  A node contains one or more of the following components:\n",
              " *\n",
              " *    - A value: Representing the output of the node. If the node is not a leaf,\n",
              " *      the value is only present for analysis i.e. it is not used for\n",
              " *      predictions.\n",
              " *\n",
              " *    - A condition : For non-leaf nodes, the condition (also known as split)\n",
              " *      defines a binary test to branch to the positive or negative child.\n",
              " *\n",
              " *    - An explanation: Generally a plot showing the relation between the label\n",
              " *      and the condition to give insights about the effect of the condition.\n",
              " *\n",
              " *    - Two children : For non-leaf nodes, the children nodes. The first\n",
              " *      children (i.e. \"node.children[0]\") is the negative children (drawn in\n",
              " *      red). The second children is the positive one (drawn in green).\n",
              " *\n",
              " */\n",
              "\n",
              "/**\n",
              " * Plots a single decision tree into a DOM element.\n",
              " * @param {!options} options Dictionary of configurations.\n",
              " * @param {!tree} raw_tree Recursive tree structure.\n",
              " * @param {string} canvas_id Id of the output dom element.\n",
              " */\n",
              "function display_tree(options, raw_tree, canvas_id) {\n",
              "  console.log(options);\n",
              "\n",
              "  // Determine the node placement.\n",
              "  const tree_struct = d3.tree().nodeSize(\n",
              "      [options.node_y_offset, options.node_x_offset])(d3.hierarchy(raw_tree));\n",
              "\n",
              "  // Boundaries of the node placement.\n",
              "  let x_min = Infinity;\n",
              "  let x_max = -x_min;\n",
              "  let y_min = Infinity;\n",
              "  let y_max = -x_min;\n",
              "\n",
              "  tree_struct.each(d => {\n",
              "    if (d.x > x_max) x_max = d.x;\n",
              "    if (d.x < x_min) x_min = d.x;\n",
              "    if (d.y > y_max) y_max = d.y;\n",
              "    if (d.y < y_min) y_min = d.y;\n",
              "  });\n",
              "\n",
              "  // Size of the plot.\n",
              "  const width = y_max - y_min + options.node_x_size + options.margin * 2;\n",
              "  const height = x_max - x_min + options.node_y_size + options.margin * 2 +\n",
              "      options.node_y_offset - options.node_y_size;\n",
              "\n",
              "  const plot = d3.select(canvas_id);\n",
              "\n",
              "  // Tool tip\n",
              "  options.tooltip = plot.append('div')\n",
              "                        .attr('width', 100)\n",
              "                        .attr('height', 100)\n",
              "                        .style('padding', '4px')\n",
              "                        .style('background', '#fff')\n",
              "                        .style('box-shadow', '4px 4px 0px rgba(0,0,0,0.1)')\n",
              "                        .style('border', '1px solid black')\n",
              "                        .style('font-family', 'sans-serif')\n",
              "                        .style('font-size', options.font_size)\n",
              "                        .style('position', 'absolute')\n",
              "                        .style('z-index', '10')\n",
              "                        .attr('pointer-events', 'none')\n",
              "                        .style('display', 'none');\n",
              "\n",
              "  // Create canvas\n",
              "  const svg = plot.append('svg').attr('width', width).attr('height', height);\n",
              "  const graph =\n",
              "      svg.style('overflow', 'visible')\n",
              "          .append('g')\n",
              "          .attr('font-family', 'sans-serif')\n",
              "          .attr('font-size', options.font_size)\n",
              "          .attr(\n",
              "              'transform',\n",
              "              () => `translate(${options.margin},${\n",
              "                  - x_min + options.node_y_offset / 2 + options.margin})`);\n",
              "\n",
              "  // Plot bounding box.\n",
              "  if (options.show_plot_bounding_box) {\n",
              "    svg.append('rect')\n",
              "        .attr('width', width)\n",
              "        .attr('height', height)\n",
              "        .attr('fill', 'none')\n",
              "        .attr('stroke-width', 1.0)\n",
              "        .attr('stroke', 'black');\n",
              "  }\n",
              "\n",
              "  // Draw the edges.\n",
              "  display_edges(options, graph, tree_struct);\n",
              "\n",
              "  // Draw the nodes.\n",
              "  display_nodes(options, graph, tree_struct);\n",
              "}\n",
              "\n",
              "/**\n",
              " * Draw the nodes of the tree.\n",
              " * @param {!options} options Dictionary of configurations.\n",
              " * @param {!graph} graph D3 search handle containing the graph.\n",
              " * @param {!tree_struct} tree_struct Structure of the tree (node placement,\n",
              " *     data, etc.).\n",
              " */\n",
              "function display_nodes(options, graph, tree_struct) {\n",
              "  const nodes = graph.append('g')\n",
              "                    .selectAll('g')\n",
              "                    .data(tree_struct.descendants())\n",
              "                    .join('g')\n",
              "                    .attr('transform', d => `translate(${d.y},${d.x})`);\n",
              "\n",
              "  nodes.append('rect')\n",
              "      .attr('x', 0.5)\n",
              "      .attr('y', 0.5)\n",
              "      .attr('width', options.node_x_size)\n",
              "      .attr('height', options.node_y_size)\n",
              "      .attr('stroke', 'lightgrey')\n",
              "      .attr('stroke-width', 1)\n",
              "      .attr('fill', 'white')\n",
              "      .attr('y', -options.node_y_size / 2);\n",
              "\n",
              "  // Brackets on the right of condition nodes without children.\n",
              "  non_leaf_node_without_children =\n",
              "      nodes.filter(node => node.data.condition != null && node.children == null)\n",
              "          .append('g')\n",
              "          .attr('transform', `translate(${options.node_x_size},0)`);\n",
              "\n",
              "  non_leaf_node_without_children.append('path')\n",
              "      .attr('d', 'M0,0 C 10,0 0,10 10,10')\n",
              "      .attr('fill', 'none')\n",
              "      .attr('stroke-width', 1.0)\n",
              "      .attr('stroke', '#F00');\n",
              "\n",
              "  non_leaf_node_without_children.append('path')\n",
              "      .attr('d', 'M0,0 C 10,0 0,-10 10,-10')\n",
              "      .attr('fill', 'none')\n",
              "      .attr('stroke-width', 1.0)\n",
              "      .attr('stroke', '#0F0');\n",
              "\n",
              "  const node_content = nodes.append('g').attr(\n",
              "      'transform',\n",
              "      `translate(0,${options.node_padding - options.node_y_size / 2})`);\n",
              "\n",
              "  node_content.append(node => create_node_element(options, node));\n",
              "}\n",
              "\n",
              "/**\n",
              " * Creates the D3 content for a single node.\n",
              " * @param {!options} options Dictionary of configurations.\n",
              " * @param {!node} node Node to draw.\n",
              " * @return {!d3} D3 content.\n",
              " */\n",
              "function create_node_element(options, node) {\n",
              "  // Output accumulator.\n",
              "  let output = {\n",
              "    // Content to draw.\n",
              "    content: d3.create('svg:g'),\n",
              "    // Vertical offset to the next element to draw.\n",
              "    vertical_offset: 0\n",
              "  };\n",
              "\n",
              "  // Conditions.\n",
              "  if (node.data.condition != null) {\n",
              "    display_condition(options, node.data.condition, output);\n",
              "  }\n",
              "\n",
              "  // Values.\n",
              "  if (node.data.value != null) {\n",
              "    display_value(options, node.data.value, output);\n",
              "  }\n",
              "\n",
              "  // Explanations.\n",
              "  if (node.data.explanation != null) {\n",
              "    display_explanation(options, node.data.explanation, output);\n",
              "  }\n",
              "\n",
              "  return output.content.node();\n",
              "}\n",
              "\n",
              "\n",
              "/**\n",
              " * Adds a single line of text inside of a node.\n",
              " * @param {!options} options Dictionary of configurations.\n",
              " * @param {string} text Text to display.\n",
              " * @param {!output} output Output display accumulator.\n",
              " */\n",
              "function display_node_text(options, text, output) {\n",
              "  output.content.append('text')\n",
              "      .attr('x', options.node_padding)\n",
              "      .attr('y', output.vertical_offset)\n",
              "      .attr('alignment-baseline', 'hanging')\n",
              "      .text(text);\n",
              "  output.vertical_offset += 10;\n",
              "}\n",
              "\n",
              "/**\n",
              " * Adds a single line of text inside of a node with a tooltip.\n",
              " * @param {!options} options Dictionary of configurations.\n",
              " * @param {string} text Text to display.\n",
              " * @param {string} tooltip Text in the Tooltip.\n",
              " * @param {!output} output Output display accumulator.\n",
              " */\n",
              "function display_node_text_with_tooltip(options, text, tooltip, output) {\n",
              "  const item = output.content.append('text')\n",
              "                   .attr('x', options.node_padding)\n",
              "                   .attr('alignment-baseline', 'hanging')\n",
              "                   .text(text);\n",
              "\n",
              "  add_tooltip(options, item, () => tooltip);\n",
              "  output.vertical_offset += 10;\n",
              "}\n",
              "\n",
              "/**\n",
              " * Adds a tooltip to a dom element.\n",
              " * @param {!options} options Dictionary of configurations.\n",
              " * @param {!dom} target Dom element to equip with a tooltip.\n",
              " * @param {!func} get_content Generates the html content of the tooltip.\n",
              " */\n",
              "function add_tooltip(options, target, get_content) {\n",
              "  function show(d) {\n",
              "    options.tooltip.style('display', 'block');\n",
              "    options.tooltip.html(get_content());\n",
              "  }\n",
              "\n",
              "  function hide(d) {\n",
              "    options.tooltip.style('display', 'none');\n",
              "  }\n",
              "\n",
              "  function move(d) {\n",
              "    options.tooltip.style('display', 'block');\n",
              "    options.tooltip.style('left', (d.pageX + 5) + 'px');\n",
              "    options.tooltip.style('top', d.pageY + 'px');\n",
              "  }\n",
              "\n",
              "  target.on('mouseover', show);\n",
              "  target.on('mouseout', hide);\n",
              "  target.on('mousemove', move);\n",
              "}\n",
              "\n",
              "/**\n",
              " * Adds a condition inside of a node.\n",
              " * @param {!options} options Dictionary of configurations.\n",
              " * @param {!condition} condition Condition to display.\n",
              " * @param {!output} output Output display accumulator.\n",
              " */\n",
              "function display_condition(options, condition, output) {\n",
              "  threshold_format = d3.format('r');\n",
              "\n",
              "  if (condition.type === 'IS_MISSING') {\n",
              "    display_node_text(options, `${condition.attribute} is missing`, output);\n",
              "    return;\n",
              "  }\n",
              "\n",
              "  if (condition.type === 'IS_TRUE') {\n",
              "    display_node_text(options, `${condition.attribute} is true`, output);\n",
              "    return;\n",
              "  }\n",
              "\n",
              "  if (condition.type === 'NUMERICAL_IS_HIGHER_THAN') {\n",
              "    format = d3.format('r');\n",
              "    display_node_text(\n",
              "        options,\n",
              "        `${condition.attribute} >= ${threshold_format(condition.threshold)}`,\n",
              "        output);\n",
              "    return;\n",
              "  }\n",
              "\n",
              "  if (condition.type === 'CATEGORICAL_IS_IN') {\n",
              "    display_node_text_with_tooltip(\n",
              "        options, `${condition.attribute} in [...]`,\n",
              "        `${condition.attribute} in [${condition.mask}]`, output);\n",
              "    return;\n",
              "  }\n",
              "\n",
              "  if (condition.type === 'CATEGORICAL_SET_CONTAINS') {\n",
              "    display_node_text_with_tooltip(\n",
              "        options, `${condition.attribute} intersect [...]`,\n",
              "        `${condition.attribute} intersect [${condition.mask}]`, output);\n",
              "    return;\n",
              "  }\n",
              "\n",
              "  if (condition.type === 'NUMERICAL_SPARSE_OBLIQUE') {\n",
              "    display_node_text_with_tooltip(\n",
              "        options, `Sparse oblique split...`,\n",
              "        `[${condition.attributes}]*[${condition.weights}]>=${\n",
              "            threshold_format(condition.threshold)}`,\n",
              "        output);\n",
              "    return;\n",
              "  }\n",
              "\n",
              "  display_node_text(\n",
              "      options, `Non supported condition ${condition.type}`, output);\n",
              "}\n",
              "\n",
              "/**\n",
              " * Adds a value inside of a node.\n",
              " * @param {!options} options Dictionary of configurations.\n",
              " * @param {!value} value Value to display.\n",
              " * @param {!output} output Output display accumulator.\n",
              " */\n",
              "function display_value(options, value, output) {\n",
              "  if (value.type === 'PROBABILITY') {\n",
              "    const left_margin = 0;\n",
              "    const right_margin = 50;\n",
              "    const plot_width = options.node_x_size - options.node_padding * 2 -\n",
              "        left_margin - right_margin;\n",
              "\n",
              "    let cusum = Array.from(d3.cumsum(value.distribution));\n",
              "    cusum.unshift(0);\n",
              "    const distribution_plot = output.content.append('g').attr(\n",
              "        'transform', `translate(0,${output.vertical_offset + 0.5})`);\n",
              "\n",
              "    distribution_plot.selectAll('rect')\n",
              "        .data(value.distribution)\n",
              "        .join('rect')\n",
              "        .attr('height', 10)\n",
              "        .attr(\n",
              "            'x',\n",
              "            (d, i) =>\n",
              "                (cusum[i] * plot_width + left_margin + options.node_padding))\n",
              "        .attr('width', (d, i) => d * plot_width)\n",
              "        .style('fill', (d, i) => d3.schemeSet1[i]);\n",
              "\n",
              "    const num_examples =\n",
              "        output.content.append('g')\n",
              "            .attr('transform', `translate(0,${output.vertical_offset})`)\n",
              "            .append('text')\n",
              "            .attr('x', options.node_x_size - options.node_padding)\n",
              "            .attr('alignment-baseline', 'hanging')\n",
              "            .attr('text-anchor', 'end')\n",
              "            .text(`(${value.num_examples})`);\n",
              "\n",
              "    const distribution_details = d3.create('ul');\n",
              "    distribution_details.selectAll('li')\n",
              "        .data(value.distribution)\n",
              "        .join('li')\n",
              "        .append('span')\n",
              "        .text(\n",
              "            (d, i) =>\n",
              "                'class ' + i + ': ' + d3.format('.3%')(value.distribution[i]));\n",
              "\n",
              "    add_tooltip(options, distribution_plot, () => distribution_details.html());\n",
              "    add_tooltip(options, num_examples, () => 'Number of examples');\n",
              "\n",
              "    output.vertical_offset += 10;\n",
              "    return;\n",
              "  }\n",
              "\n",
              "  if (value.type === 'REGRESSION') {\n",
              "    display_node_text(\n",
              "        options,\n",
              "        'value: ' + d3.format('r')(value.value) + ` (` +\n",
              "            d3.format('.6')(value.num_examples) + `)`,\n",
              "        output);\n",
              "    return;\n",
              "  }\n",
              "\n",
              "  if (value.type === 'UPLIFT') {\n",
              "    display_node_text(\n",
              "        options,\n",
              "        'effect: ' + d3.format('r')(value.treatment_effect) + ` (` +\n",
              "            d3.format('.6')(value.num_examples) + `)`,\n",
              "        output);\n",
              "    return;\n",
              "  }\n",
              "\n",
              "  display_node_text(options, `Non supported value ${value.type}`, output);\n",
              "}\n",
              "\n",
              "/**\n",
              " * Adds an explanation inside of a node.\n",
              " * @param {!options} options Dictionary of configurations.\n",
              " * @param {!explanation} explanation Explanation to display.\n",
              " * @param {!output} output Output display accumulator.\n",
              " */\n",
              "function display_explanation(options, explanation, output) {\n",
              "  // Margin before the explanation.\n",
              "  output.vertical_offset += 10;\n",
              "\n",
              "  display_node_text(\n",
              "      options, `Non supported explanation ${explanation.type}`, output);\n",
              "}\n",
              "\n",
              "\n",
              "/**\n",
              " * Draw the edges of the tree.\n",
              " * @param {!options} options Dictionary of configurations.\n",
              " * @param {!graph} graph D3 search handle containing the graph.\n",
              " * @param {!tree_struct} tree_struct Structure of the tree (node placement,\n",
              " *     data, etc.).\n",
              " */\n",
              "function display_edges(options, graph, tree_struct) {\n",
              "  // Draw an edge between a parent and a child node with a bezier.\n",
              "  function draw_single_edge(d) {\n",
              "    return 'M' + (d.source.y + options.node_x_size) + ',' + d.source.x + ' C' +\n",
              "        (d.source.y + options.node_x_size + options.edge_rounding) + ',' +\n",
              "        d.source.x + ' ' + (d.target.y - options.edge_rounding) + ',' +\n",
              "        d.target.x + ' ' + d.target.y + ',' + d.target.x;\n",
              "  }\n",
              "\n",
              "  graph.append('g')\n",
              "      .attr('fill', 'none')\n",
              "      .attr('stroke-width', 1.2)\n",
              "      .selectAll('path')\n",
              "      .data(tree_struct.links())\n",
              "      .join('path')\n",
              "      .attr('d', draw_single_edge)\n",
              "      .attr(\n",
              "          'stroke', d => (d.target === d.source.children[0]) ? '#0F0' : '#F00');\n",
              "}\n",
              "\n",
              "display_tree({\"margin\": 10, \"node_x_size\": 160, \"node_y_size\": 28, \"node_x_offset\": 180, \"node_y_offset\": 33, \"font_size\": 10, \"edge_rounding\": 20, \"node_padding\": 2, \"show_plot_bounding_box\": false}, {\"value\": {\"type\": \"REGRESSION\", \"value\": 1.0496766567230225, \"num_examples\": 10599.0, \"standard_deviation\": 0.29343104991334557}, \"condition\": {\"type\": \"CATEGORICAL_IS_IN\", \"attribute\": \"\\u9109\\u93ae\\u5e02\\u5340\", \"mask\": [\"\\u677f\\u6a4b\\u5340\", \"\\u65b0\\u838a\\u5340\", \"\\u4e2d\\u548c\\u5340\", \"\\u4e09\\u91cd\\u5340\", \"\\u5927\\u5b89\\u5340\", \"\\u4e2d\\u5c71\\u5340\", \"\\u5167\\u6e56\\u5340\", \"\\u7af9\\u5317\\u5e02\", \"\\u65b0\\u5e97\\u5340\", \"\\u4fe1\\u7fa9\\u5340\", \"\\u571f\\u57ce\\u5340\", \"\\u6c38\\u548c\\u5340\", \"\\u4e2d\\u6b63\\u5340\", \"\\u8606\\u6d32\\u5340\", \"\\u58eb\\u6797\\u5340\", \"\\u6587\\u5c71\\u5340\", \"\\u677e\\u5c71\\u5340\", \"\\u5317\\u6295\\u5340\", \"\\u842c\\u83ef\\u5340\", \"\\u5927\\u540c\\u5340\", \"\\u5357\\u6e2f\\u5340\"]}, \"children\": [{\"value\": {\"type\": \"REGRESSION\", \"value\": 1.2612274885177612, \"num_examples\": 5055.0, \"standard_deviation\": 0.2543382074661416}, \"condition\": {\"type\": \"CATEGORICAL_IS_IN\", \"attribute\": \"\\u9109\\u93ae\\u5e02\\u5340\", \"mask\": [\"\\u5927\\u5b89\\u5340\", \"\\u4e2d\\u5c71\\u5340\", \"\\u5167\\u6e56\\u5340\", \"\\u4fe1\\u7fa9\\u5340\", \"\\u4e2d\\u6b63\\u5340\", \"\\u58eb\\u6797\\u5340\", \"\\u677e\\u5c71\\u5340\", \"\\u5927\\u540c\\u5340\", \"\\u5357\\u6e2f\\u5340\"]}, \"children\": [{\"value\": {\"type\": \"REGRESSION\", \"value\": 1.4644849300384521, \"num_examples\": 1788.0, \"standard_deviation\": 0.2738395111358336}, \"condition\": {\"type\": \"NUMERICAL_IS_HIGHER_THAN\", \"attribute\": \"\\u6a6b\\u5750\\u6a19\", \"threshold\": 317896.0}, \"children\": [{\"value\": {\"type\": \"REGRESSION\", \"value\": 0.6776811480522156, \"num_examples\": 85.0, \"standard_deviation\": 0.12835325618338148}, \"condition\": {\"type\": \"NUMERICAL_IS_HIGHER_THAN\", \"attribute\": \"\\u5c4b\\u9f61\", \"threshold\": 21.66666603088379}}, {\"value\": {\"type\": \"REGRESSION\", \"value\": 1.503755807876587, \"num_examples\": 1703.0, \"standard_deviation\": 0.2132320818443089}, \"condition\": {\"type\": \"NUMERICAL_IS_HIGHER_THAN\", \"attribute\": \"\\u7e3d\\u6a13\\u5c64\\u6578\", \"threshold\": 2.2469654083251953}}]}, {\"value\": {\"type\": \"REGRESSION\", \"value\": 1.1499865055084229, \"num_examples\": 3267.0, \"standard_deviation\": 0.1551310559593219}, \"condition\": {\"type\": \"NUMERICAL_IS_HIGHER_THAN\", \"attribute\": \"\\u5c4b\\u9f61\", \"threshold\": 24.875}, \"children\": [{\"value\": {\"type\": \"REGRESSION\", \"value\": 1.0760607719421387, \"num_examples\": 1642.0, \"standard_deviation\": 0.1264811058190495}, \"condition\": {\"type\": \"CATEGORICAL_IS_IN\", \"attribute\": \"\\u7e23\\u5e02\", \"mask\": [\"\\u53f0\\u5317\\u5e02\"]}}, {\"value\": {\"type\": \"REGRESSION\", \"value\": 1.2246856689453125, \"num_examples\": 1625.0, \"standard_deviation\": 0.14531366295326656}, \"condition\": {\"type\": \"CATEGORICAL_IS_IN\", \"attribute\": \"\\u9109\\u93ae\\u5e02\\u5340\", \"mask\": [\"\\u677f\\u6a4b\\u5340\", \"\\u4e2d\\u548c\\u5340\", \"\\u65b0\\u5e97\\u5340\", \"\\u6c38\\u548c\\u5340\", \"\\u6587\\u5c71\\u5340\", \"\\u5317\\u6295\\u5340\", \"\\u842c\\u83ef\\u5340\"]}}]}]}, {\"value\": {\"type\": \"REGRESSION\", \"value\": 0.8567853569984436, \"num_examples\": 5544.0, \"standard_deviation\": 0.1661730378690048}, \"condition\": {\"type\": \"NUMERICAL_IS_HIGHER_THAN\", \"attribute\": \"\\u5c4b\\u9f61\", \"threshold\": 19.208332061767578}, \"children\": [{\"value\": {\"type\": \"REGRESSION\", \"value\": 0.7522413730621338, \"num_examples\": 2334.0, \"standard_deviation\": 0.13655998063471653}, \"condition\": {\"type\": \"NUMERICAL_IS_HIGHER_THAN\", \"attribute\": \"\\u7e31\\u5750\\u6a19\", \"threshold\": 2765835.5}, \"children\": [{\"value\": {\"type\": \"REGRESSION\", \"value\": 0.8406264185905457, \"num_examples\": 699.0, \"standard_deviation\": 0.14652990917133651}, \"condition\": {\"type\": \"NUMERICAL_IS_HIGHER_THAN\", \"attribute\": \"\\u7e31\\u5750\\u6a19\", \"threshold\": 2774895.0}}, {\"value\": {\"type\": \"REGRESSION\", \"value\": 0.714454710483551, \"num_examples\": 1635.0, \"standard_deviation\": 0.11258059757570002}, \"condition\": {\"type\": \"CATEGORICAL_IS_IN\", \"attribute\": \"\\u9109\\u93ae\\u5e02\\u5340\", \"mask\": [\"\\u9f13\\u5c71\\u5340\", \"\\u65b0\\u7af9\\u5e02\", \"\\u5de6\\u71df\\u5340\", \"\\u897f\\u5c6f\\u5340\", \"\\u5317\\u5c6f\\u5340\", \"\\u5357\\u5c6f\\u5340\", \"\\u5317\\u5340\", \"\\u6a39\\u6797\\u5340\", \"\\u4e09\\u5cfd\\u5340\", \"\\u9daf\\u6b4c\\u5340\", \"\\u897f\\u5340\", \"\\u6df1\\u5751\\u5340\", \"\\u8c50\\u539f\\u5340\", \"\\u9ce5\\u677e\\u5340\"]}}]}, {\"value\": {\"type\": \"REGRESSION\", \"value\": 0.9327995777130127, \"num_examples\": 3210.0, \"standard_deviation\": 0.14285256195635188}, \"condition\": {\"type\": \"CATEGORICAL_IS_IN\", \"attribute\": \"\\u7e23\\u5e02\", \"mask\": [\"\\u65b0\\u5317\\u5e02\", \"\\u53f0\\u4e2d\\u5e02\", \"\\u65b0\\u7af9\\u5e02\"]}, \"children\": [{\"value\": {\"type\": \"REGRESSION\", \"value\": 1.0088980197906494, \"num_examples\": 1398.0, \"standard_deviation\": 0.12851262137793482}, \"condition\": {\"type\": \"NUMERICAL_IS_HIGHER_THAN\", \"attribute\": \"\\u7e3d\\u6a13\\u5c64\\u6578\", \"threshold\": 3.567288398742676}}, {\"value\": {\"type\": \"REGRESSION\", \"value\": 0.8740878105163574, \"num_examples\": 1812.0, \"standard_deviation\": 0.12447562747139605}, \"condition\": {\"type\": \"CATEGORICAL_IS_IN\", \"attribute\": \"\\u9109\\u93ae\\u5e02\\u5340\", \"mask\": [\"\\u6843\\u5712\\u5340\", \"\\u9f13\\u5c71\\u5340\", \"\\u4e09\\u6c11\\u5340\", \"\\u5de6\\u71df\\u5340\", \"\\u4e2d\\u58e2\\u5340\", \"\\u5317\\u5340\", \"\\u5357\\u5340\", \"\\u6c38\\u5eb7\\u5340\", \"\\u8606\\u7af9\\u5340\", \"\\u516b\\u5fb7\\u5340\", \"\\u82d3\\u96c5\\u5340\", \"\\u9f9c\\u5c71\\u5340\", \"\\u6771\\u5340\", \"\\u5b89\\u5e73\\u5340\", \"\\u524d\\u93ae\\u5340\", \"\\u5b89\\u6a02\\u5340\", \"\\u4e2d\\u897f\\u5340\", \"\\u524d\\u91d1\\u5340\", \"\\u7af9\\u6771\\u93ae\", \"\\u65b0\\u8208\\u5340\", \"\\u4ec1\\u6b66\\u5340\", \"\\u5927\\u5712\\u5340\", \"\\u7f85\\u6771\\u93ae\", \"\\u4ec1\\u5fb7\\u5340\", \"\\u4e03\\u5835\\u5340\", \"\\u5b9c\\u862d\\u5e02\", \"\\u4ec1\\u611b\\u5340\", \"\\u7901\\u6eaa\\u9109\", \"\\u91d1\\u57ce\\u93ae\", \"\\u82b1\\u84ee\\u5e02\", \"\\u9e7d\\u57d5\\u5340\", \"\\u9ce5\\u677e\\u5340\"]}}]}]}]}, \"#tree_plot_b0c1096da7774c7ab9566248468eae82\")\n",
              "</script>\n"
            ]
          },
          "metadata": {},
          "execution_count": 207
        }
      ]
    },
    {
      "cell_type": "code",
      "source": [
        "predictions = cart.predict(train_dataset)\n",
        "predicted_values = [p[0] for p in predictions]\n",
        "predicted_values = np.expm1(predicted_values)\n",
        "predictiondf['cart'] = predicted_values\n",
        "y = np.expm1(y_train)\n",
        "plt.xlabel('pre')\n",
        "plt.ylabel('truth')\n",
        "plt.scatter(predicted_values ,y.values)\n",
        "\n",
        "plt.legend()\n",
        "plt.show()"
      ],
      "metadata": {
        "colab": {
          "base_uri": "https://localhost:8080/",
          "height": 503
        },
        "id": "YBO_UxfsmxBm",
        "outputId": "c8fcc8fc-6e33-4dd4-e3a3-511c6e00e111"
      },
      "execution_count": null,
      "outputs": [
        {
          "output_type": "stream",
          "name": "stdout",
          "text": [
            "12/12 [==============================] - 0s 13ms/step\n"
          ]
        },
        {
          "output_type": "stream",
          "name": "stderr",
          "text": [
            "WARNING:matplotlib.legend:No artists with labels found to put in legend.  Note that artists whose label start with an underscore are ignored when legend() is called with no argument.\n"
          ]
        },
        {
          "output_type": "display_data",
          "data": {
            "text/plain": [
              "<Figure size 640x480 with 1 Axes>"
            ],
            "image/png": "[encoded data removed]"
          },
          "metadata": {}
        }
      ]
    },
    {
      "cell_type": "code",
      "source": [
        "SUM=0\n",
        "for i in range(len(y.values)):\n",
        "  SUM+=(abs(predicted_values[i]-y.values[i])/y.values[i])\n",
        "print(SUM/len(predicted_values)*100)"
      ],
      "metadata": {
        "colab": {
          "base_uri": "https://localhost:8080/"
        },
        "id": "bJDvjG1zm0yv",
        "outputId": "ca677245-0724-42c3-f286-f969cfa45a47"
      },
      "execution_count": null,
      "outputs": [
        {
          "output_type": "stream",
          "name": "stdout",
          "text": [
            "8.952503490158332\n"
          ]
        }
      ]
    },
    {
      "cell_type": "code",
      "source": [
        "predictions = rf.predict(predict_dataset)\n",
        "predicted_values = [p[0] for p in predictions]\n",
        "predicted_values = np.expm1(predicted_values)\n",
        "predf['cart']=predicted_values\n",
        "plt.xlabel('pre')\n",
        "plt.ylabel('truth')\n",
        "plt.scatter(predicted_values ,predicted_values)\n",
        "\n",
        "plt.legend()\n",
        "plt.show()"
      ],
      "metadata": {
        "colab": {
          "base_uri": "https://localhost:8080/",
          "height": 503
        },
        "id": "sD98m6Tim245",
        "outputId": "00a94022-ccdd-4da3-dae2-aacbb103a208"
      },
      "execution_count": null,
      "outputs": [
        {
          "output_type": "stream",
          "name": "stdout",
          "text": [
            "6/6 [==============================] - 1s 143ms/step\n"
          ]
        },
        {
          "output_type": "stream",
          "name": "stderr",
          "text": [
            "WARNING:matplotlib.legend:No artists with labels found to put in legend.  Note that artists whose label start with an underscore are ignored when legend() is called with no argument.\n"
          ]
        },
        {
          "output_type": "display_data",
          "data": {
            "text/plain": [
              "<Figure size 640x480 with 1 Axes>"
            ],
            "image/png": "[encoded data removed]"
          },
          "metadata": {}
        }
      ]
    },
    {
      "cell_type": "markdown",
      "source": [
        "# **XGB**"
      ],
      "metadata": {
        "id": "FienJ0z5jr-s"
      }
    },
    {
      "cell_type": "code",
      "source": [
        "df = pd.read_csv('drive/MyDrive/30_Training Dataset_V2/traning_dataset.csv')\n",
        "dfpred = pd.read_csv('drive/MyDrive/30_Public Dataset_Public Sumission Template_v2/test.csv')\n",
        "\n",
        "colName = list(df.columns)\n",
        "exColumn = ['ID', '備註', '使用分區','單價']\n",
        "XColName = list(set(colName) - set(exColumn))\n",
        "\n",
        "YColName = ['單價']\n",
        "Y = df[YColName]\n",
        "\n",
        "dftrain=df[XColName].copy()\n",
        "dfpre=dfpred[XColName].copy()\n",
        "\n",
        "XEncoderCol = ['縣市', '主要建材', '建物型態', '主要用途', '路名', '鄉鎮市區']\n",
        "encoder = LabelEncoder()\n",
        "for col in XEncoderCol:\n",
        "  dftrain[col]=encoder.fit_transform(dftrain[col])\n",
        "  dfpre[col]=encoder.fit_transform(dfpre[col])\n",
        "x_train, x_test, y_train, y_test = train_test_split(dftrain, Y, test_size=0.2, random_state=42)"
      ],
      "metadata": {
        "id": "keQUiemZXmcw"
      },
      "execution_count": null,
      "outputs": []
    },
    {
      "cell_type": "code",
      "source": [
        "my_model = XGBRegressor(n_estimators=1000, learning_rate=0.02, max_depth=8, booster = 'gbtree')\n",
        "my_model.fit(dftrain, Y, early_stopping_rounds=5,\n",
        "             eval_set=[(x_test, y_test)], verbose=False)"
      ],
      "metadata": {
        "colab": {
          "base_uri": "https://localhost:8080/",
          "height": 244
        },
        "id": "Ux02o8XMWxbY",
        "outputId": "8e0749c2-d183-487a-e496-bc2f0dca4409"
      },
      "execution_count": null,
      "outputs": [
        {
          "output_type": "execute_result",
          "data": {
            "text/plain": [
              "XGBRegressor(base_score=None, booster='gbtree', callbacks=None,\n",
              "             colsample_bylevel=None, colsample_bynode=None,\n",
              "             colsample_bytree=None, device=None, early_stopping_rounds=None,\n",
              "             enable_categorical=False, eval_metric=None, feature_types=None,\n",
              "             gamma=None, grow_policy=None, importance_type=None,\n",
              "             interaction_constraints=None, learning_rate=0.02, max_bin=None,\n",
              "             max_cat_threshold=None, max_cat_to_onehot=None,\n",
              "             max_delta_step=None, max_depth=8, max_leaves=None,\n",
              "             min_child_weight=None, missing=nan, monotone_constraints=None,\n",
              "             multi_strategy=None, n_estimators=1000, n_jobs=None,\n",
              "             num_parallel_tree=None, random_state=None, ...)"
            ],
            "text/html": [
              "<style>#sk-container-id-12 {color: black;background-color: white;}#sk-container-id-12 pre{padding: 0;}#sk-container-id-12 div.sk-toggleable {background-color: white;}#sk-container-id-12 label.sk-toggleable__label {cursor: pointer;display: block;width: 100%;margin-bottom: 0;padding: 0.3em;box-sizing: border-box;text-align: center;}#sk-container-id-12 label.sk-toggleable__label-arrow:before {content: \"▸\";float: left;margin-right: 0.25em;color: #696969;}#sk-container-id-12 label.sk-toggleable__label-arrow:hover:before {color: black;}#sk-container-id-12 div.sk-estimator:hover label.sk-toggleable__label-arrow:before {color: black;}#sk-container-id-12 div.sk-toggleable__content {max-height: 0;max-width: 0;overflow: hidden;text-align: left;background-color: #f0f8ff;}#sk-container-id-12 div.sk-toggleable__content pre {margin: 0.2em;color: black;border-radius: 0.25em;background-color: #f0f8ff;}#sk-container-id-12 input.sk-toggleable__control:checked~div.sk-toggleable__content {max-height: 200px;max-width: 100%;overflow: auto;}#sk-container-id-12 input.sk-toggleable__control:checked~label.sk-toggleable__label-arrow:before {content: \"▾\";}#sk-container-id-12 div.sk-estimator input.sk-toggleable__control:checked~label.sk-toggleable__label {background-color: #d4ebff;}#sk-container-id-12 div.sk-label input.sk-toggleable__control:checked~label.sk-toggleable__label {background-color: #d4ebff;}#sk-container-id-12 input.sk-hidden--visually {border: 0;clip: rect(1px 1px 1px 1px);clip: rect(1px, 1px, 1px, 1px);height: 1px;margin: -1px;overflow: hidden;padding: 0;position: absolute;width: 1px;}#sk-container-id-12 div.sk-estimator {font-family: monospace;background-color: #f0f8ff;border: 1px dotted black;border-radius: 0.25em;box-sizing: border-box;margin-bottom: 0.5em;}#sk-container-id-12 div.sk-estimator:hover {background-color: #d4ebff;}#sk-container-id-12 div.sk-parallel-item::after {content: \"\";width: 100%;border-bottom: 1px solid gray;flex-grow: 1;}#sk-container-id-12 div.sk-label:hover label.sk-toggleable__label {background-color: #d4ebff;}#sk-container-id-12 div.sk-serial::before {content: \"\";position: absolute;border-left: 1px solid gray;box-sizing: border-box;top: 0;bottom: 0;left: 50%;z-index: 0;}#sk-container-id-12 div.sk-serial {display: flex;flex-direction: column;align-items: center;background-color: white;padding-right: 0.2em;padding-left: 0.2em;position: relative;}#sk-container-id-12 div.sk-item {position: relative;z-index: 1;}#sk-container-id-12 div.sk-parallel {display: flex;align-items: stretch;justify-content: center;background-color: white;position: relative;}#sk-container-id-12 div.sk-item::before, #sk-container-id-12 div.sk-parallel-item::before {content: \"\";position: absolute;border-left: 1px solid gray;box-sizing: border-box;top: 0;bottom: 0;left: 50%;z-index: -1;}#sk-container-id-12 div.sk-parallel-item {display: flex;flex-direction: column;z-index: 1;position: relative;background-color: white;}#sk-container-id-12 div.sk-parallel-item:first-child::after {align-self: flex-end;width: 50%;}#sk-container-id-12 div.sk-parallel-item:last-child::after {align-self: flex-start;width: 50%;}#sk-container-id-12 div.sk-parallel-item:only-child::after {width: 0;}#sk-container-id-12 div.sk-dashed-wrapped {border: 1px dashed gray;margin: 0 0.4em 0.5em 0.4em;box-sizing: border-box;padding-bottom: 0.4em;background-color: white;}#sk-container-id-12 div.sk-label label {font-family: monospace;font-weight: bold;display: inline-block;line-height: 1.2em;}#sk-container-id-12 div.sk-label-container {text-align: center;}#sk-container-id-12 div.sk-container {/* jupyter's `normalize.less` sets `[hidden] { display: none; }` but bootstrap.min.css set `[hidden] { display: none !important; }` so we also need the `!important` here to be able to override the default hidden behavior on the sphinx rendered scikit-learn.org. See: https://github.com/scikit-learn/scikit-learn/issues/21755 */display: inline-block !important;position: relative;}#sk-container-id-12 div.sk-text-repr-fallback {display: none;}</style><div id=\"sk-container-id-12\" class=\"sk-top-container\"><div class=\"sk-text-repr-fallback\"><pre>XGBRegressor(base_score=None, booster=&#x27;gbtree&#x27;, callbacks=None,\n",
              "             colsample_bylevel=None, colsample_bynode=None,\n",
              "             colsample_bytree=None, device=None, early_stopping_rounds=None,\n",
              "             enable_categorical=False, eval_metric=None, feature_types=None,\n",
              "             gamma=None, grow_policy=None, importance_type=None,\n",
              "             interaction_constraints=None, learning_rate=0.02, max_bin=None,\n",
              "             max_cat_threshold=None, max_cat_to_onehot=None,\n",
              "             max_delta_step=None, max_depth=8, max_leaves=None,\n",
              "             min_child_weight=None, missing=nan, monotone_constraints=None,\n",
              "             multi_strategy=None, n_estimators=1000, n_jobs=None,\n",
              "             num_parallel_tree=None, random_state=None, ...)</pre><b>In a Jupyter environment, please rerun this cell to show the HTML representation or trust the notebook. <br />On GitHub, the HTML representation is unable to render, please try loading this page with nbviewer.org.</b></div><div class=\"sk-container\" hidden><div class=\"sk-item\"><div class=\"sk-estimator sk-toggleable\"><input class=\"sk-toggleable__control sk-hidden--visually\" id=\"sk-estimator-id-12\" type=\"checkbox\" checked><label for=\"sk-estimator-id-12\" class=\"sk-toggleable__label sk-toggleable__label-arrow\">XGBRegressor</label><div class=\"sk-toggleable__content\"><pre>XGBRegressor(base_score=None, booster=&#x27;gbtree&#x27;, callbacks=None,\n",
              "             colsample_bylevel=None, colsample_bynode=None,\n",
              "             colsample_bytree=None, device=None, early_stopping_rounds=None,\n",
              "             enable_categorical=False, eval_metric=None, feature_types=None,\n",
              "             gamma=None, grow_policy=None, importance_type=None,\n",
              "             interaction_constraints=None, learning_rate=0.02, max_bin=None,\n",
              "             max_cat_threshold=None, max_cat_to_onehot=None,\n",
              "             max_delta_step=None, max_depth=8, max_leaves=None,\n",
              "             min_child_weight=None, missing=nan, monotone_constraints=None,\n",
              "             multi_strategy=None, n_estimators=1000, n_jobs=None,\n",
              "             num_parallel_tree=None, random_state=None, ...)</pre></div></div></div></div></div>"
            ]
          },
          "metadata": {},
          "execution_count": 212
        }
      ]
    },
    {
      "cell_type": "code",
      "source": [
        "predictions = my_model.predict(dftrain)\n",
        "predictiondf['xgb'] = predictions\n",
        "from sklearn.metrics import mean_absolute_percentage_error\n",
        "print(\"Mean Absolute Error : \" + str(mean_absolute_percentage_error(predictions, Y)*100))"
      ],
      "metadata": {
        "colab": {
          "base_uri": "https://localhost:8080/"
        },
        "id": "iemcz51IaZht",
        "outputId": "0e474ac3-9a53-4a40-a3fc-75b34b4e437e"
      },
      "execution_count": null,
      "outputs": [
        {
          "output_type": "stream",
          "name": "stdout",
          "text": [
            "Mean Absolute Error : 3.810410329632567\n"
          ]
        }
      ]
    },
    {
      "cell_type": "code",
      "source": [
        "plt.xlabel('pre')\n",
        "plt.ylabel('truth')\n",
        "plt.scatter(predictions ,Y.values)\n",
        "\n",
        "plt.legend()\n",
        "plt.show()"
      ],
      "metadata": {
        "colab": {
          "base_uri": "https://localhost:8080/",
          "height": 486
        },
        "id": "KyM3OkRClo74",
        "outputId": "6c7db3d6-4adc-4d7f-f62f-8fa3a153ae8b"
      },
      "execution_count": null,
      "outputs": [
        {
          "output_type": "stream",
          "name": "stderr",
          "text": [
            "WARNING:matplotlib.legend:No artists with labels found to put in legend.  Note that artists whose label start with an underscore are ignored when legend() is called with no argument.\n"
          ]
        },
        {
          "output_type": "display_data",
          "data": {
            "text/plain": [
              "<Figure size 640x480 with 1 Axes>"
            ],
            "image/png": "[encoded data removed]"
          },
          "metadata": {}
        }
      ]
    },
    {
      "cell_type": "code",
      "source": [
        "predictions = my_model.predict(dfpre)\n",
        "predf['xgb'] = predictions"
      ],
      "metadata": {
        "id": "QeIySmW2aZEE"
      },
      "execution_count": null,
      "outputs": []
    },
    {
      "cell_type": "code",
      "source": [
        "plt.xlabel('pre')\n",
        "plt.ylabel('truth')\n",
        "plt.scatter(predictions, predictions)\n",
        "\n",
        "plt.legend()\n",
        "plt.show()"
      ],
      "metadata": {
        "colab": {
          "base_uri": "https://localhost:8080/",
          "height": 486
        },
        "id": "4W2oFaRDl0pR",
        "outputId": "cf5b4edf-2176-465d-f844-1aabb455c3b8"
      },
      "execution_count": null,
      "outputs": [
        {
          "output_type": "stream",
          "name": "stderr",
          "text": [
            "WARNING:matplotlib.legend:No artists with labels found to put in legend.  Note that artists whose label start with an underscore are ignored when legend() is called with no argument.\n"
          ]
        },
        {
          "output_type": "display_data",
          "data": {
            "text/plain": [
              "<Figure size 640x480 with 1 Axes>"
            ],
            "image/png": "[encoded data removed]"
          },
          "metadata": {}
        }
      ]
    },
    {
      "cell_type": "code",
      "source": [
        "print(predictiondf)"
      ],
      "metadata": {
        "colab": {
          "base_uri": "https://localhost:8080/"
        },
        "id": "Mjq9IWPbd8rP",
        "outputId": "fe88d75f-2ec6-492e-942f-3fcada6a3c2c"
      },
      "execution_count": null,
      "outputs": [
        {
          "output_type": "stream",
          "name": "stdout",
          "text": [
            "            gbt        rf      cart       xgb\n",
            "0      4.631763  4.485785  4.718803  4.452731\n",
            "1      1.944112  2.183361  2.183095  2.078426\n",
            "2      1.373730  1.332833  1.296519  1.438701\n",
            "3      2.202167  2.247781  2.192574  2.196105\n",
            "4      3.354787  3.477065  3.492235  3.370293\n",
            "...         ...       ...       ...       ...\n",
            "11746  0.874171  0.911252  1.078295  0.850432\n",
            "11747  1.080260  1.075772  0.974406  1.112776\n",
            "11748  2.022578  2.030933  2.024517  2.061386\n",
            "11749  2.290623  2.201452  2.205929  2.295020\n",
            "11750  2.675141  2.637962  2.799997  2.670321\n",
            "\n",
            "[11751 rows x 4 columns]\n"
          ]
        }
      ]
    },
    {
      "cell_type": "code",
      "source": [
        "print(predf)"
      ],
      "metadata": {
        "colab": {
          "base_uri": "https://localhost:8080/"
        },
        "id": "BzUDTsiUeABC",
        "outputId": "f40c6515-d484-4a39-ed7e-63a0851951a8"
      },
      "execution_count": null,
      "outputs": [
        {
          "output_type": "stream",
          "name": "stdout",
          "text": [
            "           gbt        rf      cart       xgb\n",
            "0     1.646786  1.645530  1.645530  1.661424\n",
            "1     1.677917  1.692389  1.692389  1.644803\n",
            "2     2.650240  2.724423  2.724423  2.632319\n",
            "3     1.421371  1.440772  1.440772  1.521548\n",
            "4     3.538363  3.706731  3.706731  3.540636\n",
            "...        ...       ...       ...       ...\n",
            "5871  1.504422  1.493205  1.493205  1.589783\n",
            "5872  1.615331  1.656389  1.656389  1.662684\n",
            "5873  2.073569  2.160217  2.160217  2.095366\n",
            "5874  2.874258  2.965308  2.965308  2.800372\n",
            "5875  2.166780  2.175926  2.175926  2.190297\n",
            "\n",
            "[5876 rows x 4 columns]\n"
          ]
        }
      ]
    },
    {
      "cell_type": "code",
      "source": [
        "!pip install category_encoders"
      ],
      "metadata": {
        "colab": {
          "base_uri": "https://localhost:8080/"
        },
        "id": "wlcnC8GWupDv",
        "outputId": "8a9476a1-2902-41ca-dda5-f4b408108b78"
      },
      "execution_count": null,
      "outputs": [
        {
          "output_type": "stream",
          "name": "stdout",
          "text": [
            "Collecting category_encoders\n",
            "  Downloading category_encoders-2.6.3-py2.py3-none-any.whl (81 kB)\n",
            "\u001b[?25l     \u001b[90m━━━━━━━━━━━━━━━━━━━━━━━━━━━━━━━━━━━━━━━━\u001b[0m \u001b[32m0.0/81.9 kB\u001b[0m \u001b[31m?\u001b[0m eta \u001b[36m-:--:--\u001b[0m\r\u001b[2K     \u001b[91m━━━━━━━━━━━━━━━━━━━━━━━━━━━━━━━━━━━\u001b[0m\u001b[90m╺\u001b[0m\u001b[90m━━━━\u001b[0m \u001b[32m71.7/81.9 kB\u001b[0m \u001b[31m2.2 MB/s\u001b[0m eta \u001b[36m0:00:01\u001b[0m\r\u001b[2K     \u001b[90m━━━━━━━━━━━━━━━━━━━━━━━━━━━━━━━━━━━━━━━━\u001b[0m \u001b[32m81.9/81.9 kB\u001b[0m \u001b[31m2.0 MB/s\u001b[0m eta \u001b[36m0:00:00\u001b[0m\n",
            "\u001b[?25hRequirement already satisfied: numpy>=1.14.0 in /usr/local/lib/python3.10/dist-packages (from category_encoders) (1.23.5)\n",
            "Requirement already satisfied: scikit-learn>=0.20.0 in /usr/local/lib/python3.10/dist-packages (from category_encoders) (1.2.2)\n",
            "Requirement already satisfied: scipy>=1.0.0 in /usr/local/lib/python3.10/dist-packages (from category_encoders) (1.11.3)\n",
            "Requirement already satisfied: statsmodels>=0.9.0 in /usr/local/lib/python3.10/dist-packages (from category_encoders) (0.14.0)\n",
            "Requirement already satisfied: pandas>=1.0.5 in /usr/local/lib/python3.10/dist-packages (from category_encoders) (1.5.3)\n",
            "Requirement already satisfied: patsy>=0.5.1 in /usr/local/lib/python3.10/dist-packages (from category_encoders) (0.5.3)\n",
            "Requirement already satisfied: python-dateutil>=2.8.1 in /usr/local/lib/python3.10/dist-packages (from pandas>=1.0.5->category_encoders) (2.8.2)\n",
            "Requirement already satisfied: pytz>=2020.1 in /usr/local/lib/python3.10/dist-packages (from pandas>=1.0.5->category_encoders) (2023.3.post1)\n",
            "Requirement already satisfied: six in /usr/local/lib/python3.10/dist-packages (from patsy>=0.5.1->category_encoders) (1.16.0)\n",
            "Requirement already satisfied: joblib>=1.1.1 in /usr/local/lib/python3.10/dist-packages (from scikit-learn>=0.20.0->category_encoders) (1.3.2)\n",
            "Requirement already satisfied: threadpoolctl>=2.0.0 in /usr/local/lib/python3.10/dist-packages (from scikit-learn>=0.20.0->category_encoders) (3.2.0)\n",
            "Requirement already satisfied: packaging>=21.3 in /usr/local/lib/python3.10/dist-packages (from statsmodels>=0.9.0->category_encoders) (23.2)\n",
            "Installing collected packages: category_encoders\n",
            "Successfully installed category_encoders-2.6.3\n"
          ]
        }
      ]
    },
    {
      "cell_type": "code",
      "source": [
        "import pandas as pd\n",
        "import tensorflow as tf\n",
        "import numpy as np\n",
        "import matplotlib.pyplot as plt\n",
        "import os\n",
        "from tensorflow import keras\n",
        "from tensorflow.keras import layers\n",
        "import numpy as np\n",
        "from sklearn.preprocessing import StandardScaler\n",
        "import category_encoders as ce\n",
        "from sklearn.preprocessing import LabelEncoder\n",
        "from sklearn.preprocessing import OneHotEncoder\n",
        "from scipy.stats import mode\n",
        "\n",
        "tf.random.set_seed(42)"
      ],
      "metadata": {
        "id": "lWYmB7c3tAVZ"
      },
      "execution_count": null,
      "outputs": []
    },
    {
      "cell_type": "code",
      "source": [
        "df = pd.read_csv('drive/MyDrive/30_Training Dataset_V2/traning_dataset.csv')\n",
        "dfpred = pd.read_csv('drive/MyDrive/30_Public Dataset_Public Sumission Template_v2/test.csv')\n",
        "# x_train, x_test = train_test_split(df, test_size=0.2, random_state=42)\n",
        "\n",
        "colName = list(df.columns)\n",
        "exColumn = ['ID', '備註', '使用分區', '單價', '路名', '鄉鎮市區', '建物型態', '主要用途']\n",
        "XColName = list(set(colName) - set(exColumn))\n",
        "\n",
        "YColName = ['單價']\n",
        "Y = df[YColName]\n",
        "\n",
        "dftrain=df[XColName].copy()\n",
        "dfpre=dfpred[XColName].copy()\n",
        "\n",
        "XEncoderCol = ['縣市', '主要建材']\n",
        "encoder = LabelEncoder()\n",
        "for col in XEncoderCol:\n",
        "  dftrain[col]=encoder.fit_transform(dftrain[col])\n",
        "  dfpre[col]=encoder.transform(dfpre[col])"
      ],
      "metadata": {
        "id": "9TWb5g8wtQjb"
      },
      "execution_count": null,
      "outputs": []
    },
    {
      "cell_type": "code",
      "source": [
        "n=4\n",
        "# IQR = Q3-Q1\n",
        "for col in dftrain.columns:\n",
        "  # if '面積' in col:\n",
        "    high = np.percentile(dftrain[col], 75)\n",
        "    mid = np.percentile(dftrain[col], 50)\n",
        "    low = np.percentile(dftrain[col], 25)\n",
        "    IQR = high - low\n",
        "    print(col, IQR)\n",
        "    dftrain[col] = pd.to_numeric(dftrain[col], errors='coerce')\n",
        "    for i in dftrain[col].values:\n",
        "      if i < np.percentile(dftrain[col], 25) - n * IQR:\n",
        "        i = mid\n",
        "      if i > np.percentile(dftrain[col], 75) + n * IQR:\n",
        "        i = mid\n"
      ],
      "metadata": {
        "colab": {
          "base_uri": "https://localhost:8080/"
        },
        "id": "PUvoYqVDzZoD",
        "outputId": "54e65c63-67e7-4105-ee14-1f007b83ea5d"
      },
      "execution_count": null,
      "outputs": [
        {
          "output_type": "stream",
          "name": "stdout",
          "text": [
            "附屬建物面積 0.5850296509999999\n",
            "主要建材 0.0\n",
            "土地面積 1.0564312685\n",
            "縱坐標 63935.5\n",
            "陽台面積 1.081815609\n",
            "主建物面積 1.0082246115\n",
            "車位個數 1.0\n",
            "總樓層數 8.0\n",
            "橫坐標 64541.5\n",
            "車位面積 1.496914269\n",
            "建物面積 0.9594788399999999\n",
            "移轉層次 6.0\n",
            "屋齡 23.166666667\n",
            "縣市 10.0\n"
          ]
        }
      ]
    },
    {
      "cell_type": "code",
      "source": [
        "from sklearn.model_selection import train_test_split\n",
        "# x_train, x_test, y_train, y_test = train_test_split(df, Y, test_size=0.2, random_state=42)\n",
        "# x_train = dftrain\n",
        "# y_train = Y\n",
        "# x_pred = dfpre\n",
        "\n",
        "x_train = predictiondf\n",
        "y_train = Y\n",
        "x_pred = predf\n",
        "# x_train_normalize = pd.concat([x_train_normalize, predictiondf], axis=1)\n",
        "# x_pred_normalize = pd.concat([x_pred_normalize, predf], axis=1)"
      ],
      "metadata": {
        "id": "USkFuvfkwIJW"
      },
      "execution_count": null,
      "outputs": []
    },
    {
      "cell_type": "code",
      "source": [
        "#preprocess\n",
        "from sklearn.preprocessing import MinMaxScaler  # 使用 MinMaxScaler object 對 x 做正規化"
      ],
      "metadata": {
        "id": "Z8EDz928tuch"
      },
      "execution_count": null,
      "outputs": []
    },
    {
      "cell_type": "code",
      "source": [
        "#standardscalar training dataset\n",
        "scaler = MinMaxScaler()\n",
        "x_train_normalize = scaler.fit_transform(x_train)  # 使用 scaler 將 x 中的特徵 (feature) 其數值變為 0~1 之間的區間\n",
        "#standardscalar testing dataset\n",
        "# x_test_normalize = scaler.transform(x_test)\n",
        "x_pred_normalize = scaler.transform(x_pred)\n",
        "# x_train_normalize = pd.DataFrame(x_train_normalize)\n",
        "# x_pred_normalize = pd.DataFrame(x_pred_normalize)\n",
        "\n",
        "# x_train_normalize = pd.concat([x_train_normalize, predictiondf], axis=1)\n",
        "# x_pred_normalize = pd.concat([x_pred_normalize, predf], axis=1)"
      ],
      "metadata": {
        "id": "7XSnXvKjt2fP"
      },
      "execution_count": null,
      "outputs": []
    },
    {
      "cell_type": "code",
      "source": [
        "# print(\"X SHAPE: \", x_train_normalize.shape, x_test_normalize.shape)\n",
        "# print(\"Y SHAPE: \", y_train.shape, y_test.shape)\n"
      ],
      "metadata": {
        "id": "RK8yRK8Jt4H3"
      },
      "execution_count": null,
      "outputs": []
    },
    {
      "cell_type": "code",
      "source": [
        "#add layers\n",
        "model = tf.keras.Sequential([\n",
        "    tf.keras.layers.InputLayer(input_shape=x_train_normalize.shape[1]),\n",
        "    tf.keras.layers.Dense(units=16, activation='relu'),\n",
        "    tf.keras.layers.Dense(units=8, activation='relu'),\n",
        "    tf.keras.layers.Dense(1)\n",
        "])"
      ],
      "metadata": {
        "id": "Xd0N1819t6Na"
      },
      "execution_count": null,
      "outputs": []
    },
    {
      "cell_type": "code",
      "source": [
        "model.summary()"
      ],
      "metadata": {
        "colab": {
          "base_uri": "https://localhost:8080/"
        },
        "id": "zOiK6vFFt7NA",
        "outputId": "ebcaae23-df48-4f66-ca30-5cc7a6d71323"
      },
      "execution_count": null,
      "outputs": [
        {
          "output_type": "stream",
          "name": "stdout",
          "text": [
            "Model: \"sequential_14\"\n",
            "_________________________________________________________________\n",
            " Layer (type)                Output Shape              Param #   \n",
            "=================================================================\n",
            " dense_46 (Dense)            (None, 16)                80        \n",
            "                                                                 \n",
            " dense_47 (Dense)            (None, 8)                 136       \n",
            "                                                                 \n",
            " dense_48 (Dense)            (None, 1)                 9         \n",
            "                                                                 \n",
            "=================================================================\n",
            "Total params: 225 (900.00 Byte)\n",
            "Trainable params: 225 (900.00 Byte)\n",
            "Non-trainable params: 0 (0.00 Byte)\n",
            "_________________________________________________________________\n"
          ]
        }
      ]
    },
    {
      "cell_type": "code",
      "source": [
        "from datetime import datetime\n",
        "#save dir\n",
        "SAVE_DIR = 'results'\n",
        "tag = 'inlier'\n",
        "\n",
        "file_dir = '{model_name}/model_{tag}'"
      ],
      "metadata": {
        "id": "of7XKwFWt8c3"
      },
      "execution_count": null,
      "outputs": []
    },
    {
      "cell_type": "code",
      "source": [
        "# 可更改參數\n",
        "#model參數設定\n",
        "model_config = {\n",
        "    'batch_size': 128,\n",
        "    'epochs': 200,\n",
        "    'validation_split': 0.2,\n",
        "    'callbacks': [\n",
        "        tf.keras.callbacks.EarlyStopping(\n",
        "            monitor='val_loss',\n",
        "            min_delta=0,\n",
        "            patience=20,\n",
        "            verbose=1,\n",
        "            mode='auto'\n",
        "        ),\n",
        "        tf.keras.callbacks.ReduceLROnPlateau(\n",
        "            monitor='val_loss',\n",
        "            factor=0.1,\n",
        "            patience=5,\n",
        "            verbose=1,\n",
        "            mode='auto'\n",
        "        ),\n",
        "        tf.keras.callbacks.ModelCheckpoint(\n",
        "            filepath=os.path.join(file_dir.format(save_dir=SAVE_DIR, model_name='NN', tag=tag), 'model'),\n",
        "            monitor='val_loss',\n",
        "            verbose=0,\n",
        "            save_best_only=True,\n",
        "            save_freq='epoch'\n",
        "        )\n",
        "    ]\n",
        "}"
      ],
      "metadata": {
        "id": "8RgnhxLct9_6"
      },
      "execution_count": null,
      "outputs": []
    },
    {
      "cell_type": "code",
      "source": [
        "my_adam = tf.keras.optimizers.Adam(learning_rate=0.001, beta_1=0.9, beta_2=0.999, epsilon=1e-07,)\n",
        "model.compile(\n",
        "    optimizer=my_adam,  # 更改 optimizer\n",
        "    loss=tf.keras.losses.MeanAbsolutePercentageError(),\n",
        "    metrics=['accuracy']\n",
        ")"
      ],
      "metadata": {
        "id": "a_SICge9t-m3"
      },
      "execution_count": null,
      "outputs": []
    },
    {
      "cell_type": "code",
      "source": [
        "# train the model\n",
        "history = model.fit(x_train_normalize, y_train, **model_config)"
      ],
      "metadata": {
        "colab": {
          "base_uri": "https://localhost:8080/"
        },
        "id": "slD8MXzut_uX",
        "outputId": "2c973660-fafe-4e50-ecd2-08b3032e50ed"
      },
      "execution_count": null,
      "outputs": [
        {
          "output_type": "stream",
          "name": "stdout",
          "text": [
            "Epoch 1/200\n",
            "74/74 [==============================] - 2s 13ms/step - loss: 96.5558 - accuracy: 0.0000e+00 - val_loss: 91.0233 - val_accuracy: 0.0000e+00 - lr: 0.0010\n",
            "Epoch 2/200\n",
            "74/74 [==============================] - 1s 10ms/step - loss: 82.7153 - accuracy: 0.0000e+00 - val_loss: 70.7147 - val_accuracy: 0.0000e+00 - lr: 0.0010\n",
            "Epoch 3/200\n",
            "74/74 [==============================] - 1s 10ms/step - loss: 52.2978 - accuracy: 0.0000e+00 - val_loss: 30.2777 - val_accuracy: 0.0000e+00 - lr: 0.0010\n",
            "Epoch 4/200\n",
            "74/74 [==============================] - 1s 10ms/step - loss: 22.9957 - accuracy: 0.0000e+00 - val_loss: 20.4970 - val_accuracy: 0.0000e+00 - lr: 0.0010\n",
            "Epoch 5/200\n",
            "74/74 [==============================] - 1s 10ms/step - loss: 19.4064 - accuracy: 0.0000e+00 - val_loss: 18.3378 - val_accuracy: 0.0000e+00 - lr: 0.0010\n",
            "Epoch 6/200\n",
            "74/74 [==============================] - 1s 11ms/step - loss: 16.8804 - accuracy: 0.0000e+00 - val_loss: 15.0429 - val_accuracy: 0.0000e+00 - lr: 0.0010\n",
            "Epoch 7/200\n",
            "74/74 [==============================] - 1s 14ms/step - loss: 12.8265 - accuracy: 0.0000e+00 - val_loss: 10.3415 - val_accuracy: 0.0000e+00 - lr: 0.0010\n",
            "Epoch 8/200\n",
            "74/74 [==============================] - 1s 15ms/step - loss: 7.5147 - accuracy: 0.0000e+00 - val_loss: 5.5900 - val_accuracy: 0.0000e+00 - lr: 0.0010\n",
            "Epoch 9/200\n",
            "74/74 [==============================] - 1s 15ms/step - loss: 5.4327 - accuracy: 0.0000e+00 - val_loss: 5.4133 - val_accuracy: 0.0000e+00 - lr: 0.0010\n",
            "Epoch 10/200\n",
            "74/74 [==============================] - 1s 15ms/step - loss: 5.3549 - accuracy: 0.0000e+00 - val_loss: 5.3433 - val_accuracy: 0.0000e+00 - lr: 0.0010\n",
            "Epoch 11/200\n",
            "74/74 [==============================] - 1s 12ms/step - loss: 5.2640 - accuracy: 0.0000e+00 - val_loss: 5.2634 - val_accuracy: 0.0000e+00 - lr: 0.0010\n",
            "Epoch 12/200\n",
            "74/74 [==============================] - 1s 11ms/step - loss: 5.1450 - accuracy: 0.0000e+00 - val_loss: 5.0845 - val_accuracy: 0.0000e+00 - lr: 0.0010\n",
            "Epoch 13/200\n",
            "74/74 [==============================] - 1s 10ms/step - loss: 5.0572 - accuracy: 0.0000e+00 - val_loss: 4.9806 - val_accuracy: 0.0000e+00 - lr: 0.0010\n",
            "Epoch 14/200\n",
            "74/74 [==============================] - 1s 19ms/step - loss: 4.9599 - accuracy: 0.0000e+00 - val_loss: 4.8881 - val_accuracy: 0.0000e+00 - lr: 0.0010\n",
            "Epoch 15/200\n",
            "74/74 [==============================] - 1s 11ms/step - loss: 4.8361 - accuracy: 0.0000e+00 - val_loss: 4.8617 - val_accuracy: 0.0000e+00 - lr: 0.0010\n",
            "Epoch 16/200\n",
            "74/74 [==============================] - 1s 10ms/step - loss: 4.7440 - accuracy: 0.0000e+00 - val_loss: 4.6928 - val_accuracy: 0.0000e+00 - lr: 0.0010\n",
            "Epoch 17/200\n",
            "74/74 [==============================] - 1s 10ms/step - loss: 4.6296 - accuracy: 0.0000e+00 - val_loss: 4.5912 - val_accuracy: 0.0000e+00 - lr: 0.0010\n",
            "Epoch 18/200\n",
            "74/74 [==============================] - 1s 10ms/step - loss: 4.5451 - accuracy: 0.0000e+00 - val_loss: 4.5104 - val_accuracy: 0.0000e+00 - lr: 0.0010\n",
            "Epoch 19/200\n",
            "74/74 [==============================] - 1s 10ms/step - loss: 4.4699 - accuracy: 0.0000e+00 - val_loss: 4.4592 - val_accuracy: 0.0000e+00 - lr: 0.0010\n",
            "Epoch 20/200\n",
            "74/74 [==============================] - 1s 10ms/step - loss: 4.3947 - accuracy: 0.0000e+00 - val_loss: 4.3692 - val_accuracy: 0.0000e+00 - lr: 0.0010\n",
            "Epoch 21/200\n",
            "74/74 [==============================] - 0s 3ms/step - loss: 4.2986 - accuracy: 0.0000e+00 - val_loss: 4.3826 - val_accuracy: 0.0000e+00 - lr: 0.0010\n",
            "Epoch 22/200\n",
            "74/74 [==============================] - 1s 10ms/step - loss: 4.2498 - accuracy: 0.0000e+00 - val_loss: 4.2065 - val_accuracy: 0.0000e+00 - lr: 0.0010\n",
            "Epoch 23/200\n",
            "74/74 [==============================] - 1s 10ms/step - loss: 4.1481 - accuracy: 0.0000e+00 - val_loss: 4.1562 - val_accuracy: 0.0000e+00 - lr: 0.0010\n",
            "Epoch 24/200\n",
            "74/74 [==============================] - 0s 3ms/step - loss: 4.1018 - accuracy: 0.0000e+00 - val_loss: 4.1800 - val_accuracy: 0.0000e+00 - lr: 0.0010\n",
            "Epoch 25/200\n",
            "74/74 [==============================] - 0s 4ms/step - loss: 4.0895 - accuracy: 0.0000e+00 - val_loss: 4.2155 - val_accuracy: 0.0000e+00 - lr: 0.0010\n",
            "Epoch 26/200\n",
            "74/74 [==============================] - 1s 15ms/step - loss: 4.0395 - accuracy: 0.0000e+00 - val_loss: 4.0507 - val_accuracy: 0.0000e+00 - lr: 0.0010\n",
            "Epoch 27/200\n",
            "74/74 [==============================] - 1s 15ms/step - loss: 4.0307 - accuracy: 0.0000e+00 - val_loss: 4.0326 - val_accuracy: 0.0000e+00 - lr: 0.0010\n",
            "Epoch 28/200\n",
            "74/74 [==============================] - 0s 4ms/step - loss: 4.0193 - accuracy: 0.0000e+00 - val_loss: 4.0484 - val_accuracy: 0.0000e+00 - lr: 0.0010\n",
            "Epoch 29/200\n",
            "74/74 [==============================] - 1s 16ms/step - loss: 3.9690 - accuracy: 0.0000e+00 - val_loss: 4.0095 - val_accuracy: 0.0000e+00 - lr: 0.0010\n",
            "Epoch 30/200\n",
            "74/74 [==============================] - 1s 12ms/step - loss: 3.9769 - accuracy: 0.0000e+00 - val_loss: 3.9967 - val_accuracy: 0.0000e+00 - lr: 0.0010\n",
            "Epoch 31/200\n",
            "74/74 [==============================] - 1s 10ms/step - loss: 3.9145 - accuracy: 0.0000e+00 - val_loss: 3.9715 - val_accuracy: 0.0000e+00 - lr: 0.0010\n",
            "Epoch 32/200\n",
            "74/74 [==============================] - 0s 3ms/step - loss: 3.9037 - accuracy: 0.0000e+00 - val_loss: 3.9753 - val_accuracy: 0.0000e+00 - lr: 0.0010\n",
            "Epoch 33/200\n",
            "74/74 [==============================] - 1s 10ms/step - loss: 3.8885 - accuracy: 0.0000e+00 - val_loss: 3.9556 - val_accuracy: 0.0000e+00 - lr: 0.0010\n",
            "Epoch 34/200\n",
            "74/74 [==============================] - 0s 3ms/step - loss: 3.8749 - accuracy: 0.0000e+00 - val_loss: 4.0452 - val_accuracy: 0.0000e+00 - lr: 0.0010\n",
            "Epoch 35/200\n",
            "74/74 [==============================] - 1s 10ms/step - loss: 3.8768 - accuracy: 0.0000e+00 - val_loss: 3.9369 - val_accuracy: 0.0000e+00 - lr: 0.0010\n",
            "Epoch 36/200\n",
            "74/74 [==============================] - 1s 10ms/step - loss: 3.8457 - accuracy: 0.0000e+00 - val_loss: 3.9065 - val_accuracy: 0.0000e+00 - lr: 0.0010\n",
            "Epoch 37/200\n",
            "74/74 [==============================] - 1s 10ms/step - loss: 3.8448 - accuracy: 0.0000e+00 - val_loss: 3.9014 - val_accuracy: 0.0000e+00 - lr: 0.0010\n",
            "Epoch 38/200\n",
            "74/74 [==============================] - 1s 10ms/step - loss: 3.8408 - accuracy: 0.0000e+00 - val_loss: 3.8986 - val_accuracy: 0.0000e+00 - lr: 0.0010\n",
            "Epoch 39/200\n",
            "74/74 [==============================] - 0s 4ms/step - loss: 3.8045 - accuracy: 0.0000e+00 - val_loss: 3.9705 - val_accuracy: 0.0000e+00 - lr: 0.0010\n",
            "Epoch 40/200\n",
            "74/74 [==============================] - 1s 10ms/step - loss: 3.8365 - accuracy: 0.0000e+00 - val_loss: 3.8902 - val_accuracy: 0.0000e+00 - lr: 0.0010\n",
            "Epoch 41/200\n",
            "74/74 [==============================] - 0s 3ms/step - loss: 3.8013 - accuracy: 0.0000e+00 - val_loss: 3.9327 - val_accuracy: 0.0000e+00 - lr: 0.0010\n",
            "Epoch 42/200\n",
            "74/74 [==============================] - 1s 10ms/step - loss: 3.7973 - accuracy: 0.0000e+00 - val_loss: 3.8475 - val_accuracy: 0.0000e+00 - lr: 0.0010\n",
            "Epoch 43/200\n",
            "74/74 [==============================] - 1s 11ms/step - loss: 3.7807 - accuracy: 0.0000e+00 - val_loss: 3.8362 - val_accuracy: 0.0000e+00 - lr: 0.0010\n",
            "Epoch 44/200\n",
            "74/74 [==============================] - 0s 3ms/step - loss: 3.7635 - accuracy: 0.0000e+00 - val_loss: 3.9395 - val_accuracy: 0.0000e+00 - lr: 0.0010\n",
            "Epoch 45/200\n",
            "74/74 [==============================] - 1s 19ms/step - loss: 3.7580 - accuracy: 0.0000e+00 - val_loss: 3.8170 - val_accuracy: 0.0000e+00 - lr: 0.0010\n",
            "Epoch 46/200\n",
            "74/74 [==============================] - 0s 4ms/step - loss: 3.7404 - accuracy: 0.0000e+00 - val_loss: 3.8515 - val_accuracy: 0.0000e+00 - lr: 0.0010\n",
            "Epoch 47/200\n",
            "74/74 [==============================] - 0s 4ms/step - loss: 3.7207 - accuracy: 0.0000e+00 - val_loss: 3.8279 - val_accuracy: 0.0000e+00 - lr: 0.0010\n",
            "Epoch 48/200\n",
            "74/74 [==============================] - 0s 4ms/step - loss: 3.7238 - accuracy: 0.0000e+00 - val_loss: 3.8296 - val_accuracy: 0.0000e+00 - lr: 0.0010\n",
            "Epoch 49/200\n",
            "74/74 [==============================] - 1s 15ms/step - loss: 3.7106 - accuracy: 0.0000e+00 - val_loss: 3.7993 - val_accuracy: 0.0000e+00 - lr: 0.0010\n",
            "Epoch 50/200\n",
            "74/74 [==============================] - 1s 16ms/step - loss: 3.7087 - accuracy: 0.0000e+00 - val_loss: 3.7704 - val_accuracy: 0.0000e+00 - lr: 0.0010\n",
            "Epoch 51/200\n",
            "74/74 [==============================] - 1s 20ms/step - loss: 3.6929 - accuracy: 0.0000e+00 - val_loss: 3.7602 - val_accuracy: 0.0000e+00 - lr: 0.0010\n",
            "Epoch 52/200\n",
            "74/74 [==============================] - 0s 6ms/step - loss: 3.6699 - accuracy: 0.0000e+00 - val_loss: 3.8030 - val_accuracy: 0.0000e+00 - lr: 0.0010\n",
            "Epoch 53/200\n",
            "74/74 [==============================] - 1s 18ms/step - loss: 3.6644 - accuracy: 0.0000e+00 - val_loss: 3.7392 - val_accuracy: 0.0000e+00 - lr: 0.0010\n",
            "Epoch 54/200\n",
            "74/74 [==============================] - 0s 4ms/step - loss: 3.6598 - accuracy: 0.0000e+00 - val_loss: 3.7760 - val_accuracy: 0.0000e+00 - lr: 0.0010\n",
            "Epoch 55/200\n",
            "74/74 [==============================] - 0s 4ms/step - loss: 3.6574 - accuracy: 0.0000e+00 - val_loss: 3.8467 - val_accuracy: 0.0000e+00 - lr: 0.0010\n",
            "Epoch 56/200\n",
            "74/74 [==============================] - 1s 16ms/step - loss: 3.6445 - accuracy: 0.0000e+00 - val_loss: 3.7115 - val_accuracy: 0.0000e+00 - lr: 0.0010\n",
            "Epoch 57/200\n",
            "74/74 [==============================] - 1s 11ms/step - loss: 3.6271 - accuracy: 0.0000e+00 - val_loss: 3.7035 - val_accuracy: 0.0000e+00 - lr: 0.0010\n",
            "Epoch 58/200\n",
            "74/74 [==============================] - 1s 11ms/step - loss: 3.6081 - accuracy: 0.0000e+00 - val_loss: 3.6890 - val_accuracy: 0.0000e+00 - lr: 0.0010\n",
            "Epoch 59/200\n",
            "74/74 [==============================] - 0s 3ms/step - loss: 3.6154 - accuracy: 0.0000e+00 - val_loss: 3.7073 - val_accuracy: 0.0000e+00 - lr: 0.0010\n",
            "Epoch 60/200\n",
            "74/74 [==============================] - 0s 4ms/step - loss: 3.6026 - accuracy: 0.0000e+00 - val_loss: 3.7217 - val_accuracy: 0.0000e+00 - lr: 0.0010\n",
            "Epoch 61/200\n",
            "74/74 [==============================] - 0s 3ms/step - loss: 3.5976 - accuracy: 0.0000e+00 - val_loss: 3.7393 - val_accuracy: 0.0000e+00 - lr: 0.0010\n",
            "Epoch 62/200\n",
            "74/74 [==============================] - 1s 10ms/step - loss: 3.5731 - accuracy: 0.0000e+00 - val_loss: 3.6750 - val_accuracy: 0.0000e+00 - lr: 0.0010\n",
            "Epoch 63/200\n",
            "74/74 [==============================] - 1s 10ms/step - loss: 3.5751 - accuracy: 0.0000e+00 - val_loss: 3.6444 - val_accuracy: 0.0000e+00 - lr: 0.0010\n",
            "Epoch 64/200\n",
            "74/74 [==============================] - 0s 4ms/step - loss: 3.5755 - accuracy: 0.0000e+00 - val_loss: 3.6916 - val_accuracy: 0.0000e+00 - lr: 0.0010\n",
            "Epoch 65/200\n",
            "74/74 [==============================] - 0s 3ms/step - loss: 3.5489 - accuracy: 0.0000e+00 - val_loss: 3.7262 - val_accuracy: 0.0000e+00 - lr: 0.0010\n",
            "Epoch 66/200\n",
            "74/74 [==============================] - 1s 10ms/step - loss: 3.5824 - accuracy: 0.0000e+00 - val_loss: 3.6388 - val_accuracy: 0.0000e+00 - lr: 0.0010\n",
            "Epoch 67/200\n",
            "74/74 [==============================] - 1s 11ms/step - loss: 3.5290 - accuracy: 0.0000e+00 - val_loss: 3.6244 - val_accuracy: 0.0000e+00 - lr: 0.0010\n",
            "Epoch 68/200\n",
            "74/74 [==============================] - 0s 3ms/step - loss: 3.5351 - accuracy: 0.0000e+00 - val_loss: 3.6886 - val_accuracy: 0.0000e+00 - lr: 0.0010\n",
            "Epoch 69/200\n",
            "74/74 [==============================] - 0s 3ms/step - loss: 3.5260 - accuracy: 0.0000e+00 - val_loss: 3.6399 - val_accuracy: 0.0000e+00 - lr: 0.0010\n",
            "Epoch 70/200\n",
            "74/74 [==============================] - 1s 10ms/step - loss: 3.5175 - accuracy: 0.0000e+00 - val_loss: 3.5963 - val_accuracy: 0.0000e+00 - lr: 0.0010\n",
            "Epoch 71/200\n",
            "74/74 [==============================] - 0s 3ms/step - loss: 3.5004 - accuracy: 0.0000e+00 - val_loss: 3.6382 - val_accuracy: 0.0000e+00 - lr: 0.0010\n",
            "Epoch 72/200\n",
            "74/74 [==============================] - 1s 13ms/step - loss: 3.4990 - accuracy: 0.0000e+00 - val_loss: 3.5860 - val_accuracy: 0.0000e+00 - lr: 0.0010\n",
            "Epoch 73/200\n",
            "74/74 [==============================] - 1s 15ms/step - loss: 3.4827 - accuracy: 0.0000e+00 - val_loss: 3.5793 - val_accuracy: 0.0000e+00 - lr: 0.0010\n",
            "Epoch 74/200\n",
            "74/74 [==============================] - 1s 15ms/step - loss: 3.4828 - accuracy: 0.0000e+00 - val_loss: 3.5664 - val_accuracy: 0.0000e+00 - lr: 0.0010\n",
            "Epoch 75/200\n",
            "74/74 [==============================] - 0s 4ms/step - loss: 3.4823 - accuracy: 0.0000e+00 - val_loss: 3.5978 - val_accuracy: 0.0000e+00 - lr: 0.0010\n",
            "Epoch 76/200\n",
            "74/74 [==============================] - 0s 5ms/step - loss: 3.4685 - accuracy: 0.0000e+00 - val_loss: 3.6349 - val_accuracy: 0.0000e+00 - lr: 0.0010\n",
            "Epoch 77/200\n",
            "74/74 [==============================] - 0s 5ms/step - loss: 3.4844 - accuracy: 0.0000e+00 - val_loss: 3.6735 - val_accuracy: 0.0000e+00 - lr: 0.0010\n",
            "Epoch 78/200\n",
            "74/74 [==============================] - 1s 12ms/step - loss: 3.4543 - accuracy: 0.0000e+00 - val_loss: 3.5290 - val_accuracy: 0.0000e+00 - lr: 0.0010\n",
            "Epoch 79/200\n",
            "74/74 [==============================] - 1s 11ms/step - loss: 3.4469 - accuracy: 0.0000e+00 - val_loss: 3.5286 - val_accuracy: 0.0000e+00 - lr: 0.0010\n",
            "Epoch 80/200\n",
            "74/74 [==============================] - 0s 3ms/step - loss: 3.4742 - accuracy: 0.0000e+00 - val_loss: 3.6784 - val_accuracy: 0.0000e+00 - lr: 0.0010\n",
            "Epoch 81/200\n",
            "74/74 [==============================] - 1s 11ms/step - loss: 3.4362 - accuracy: 0.0000e+00 - val_loss: 3.5197 - val_accuracy: 0.0000e+00 - lr: 0.0010\n",
            "Epoch 82/200\n",
            "74/74 [==============================] - 0s 3ms/step - loss: 3.4269 - accuracy: 0.0000e+00 - val_loss: 3.5335 - val_accuracy: 0.0000e+00 - lr: 0.0010\n",
            "Epoch 83/200\n",
            "74/74 [==============================] - 1s 10ms/step - loss: 3.4266 - accuracy: 0.0000e+00 - val_loss: 3.5192 - val_accuracy: 0.0000e+00 - lr: 0.0010\n",
            "Epoch 84/200\n",
            "74/74 [==============================] - 1s 10ms/step - loss: 3.4012 - accuracy: 0.0000e+00 - val_loss: 3.4906 - val_accuracy: 0.0000e+00 - lr: 0.0010\n",
            "Epoch 85/200\n",
            "74/74 [==============================] - 1s 19ms/step - loss: 3.4110 - accuracy: 0.0000e+00 - val_loss: 3.4835 - val_accuracy: 0.0000e+00 - lr: 0.0010\n",
            "Epoch 86/200\n",
            "74/74 [==============================] - 0s 3ms/step - loss: 3.3967 - accuracy: 0.0000e+00 - val_loss: 3.4990 - val_accuracy: 0.0000e+00 - lr: 0.0010\n",
            "Epoch 87/200\n",
            "74/74 [==============================] - 1s 11ms/step - loss: 3.4076 - accuracy: 0.0000e+00 - val_loss: 3.4737 - val_accuracy: 0.0000e+00 - lr: 0.0010\n",
            "Epoch 88/200\n",
            "74/74 [==============================] - 0s 3ms/step - loss: 3.3844 - accuracy: 0.0000e+00 - val_loss: 3.5675 - val_accuracy: 0.0000e+00 - lr: 0.0010\n",
            "Epoch 89/200\n",
            "74/74 [==============================] - 1s 10ms/step - loss: 3.3842 - accuracy: 0.0000e+00 - val_loss: 3.4609 - val_accuracy: 0.0000e+00 - lr: 0.0010\n",
            "Epoch 90/200\n",
            "74/74 [==============================] - 1s 11ms/step - loss: 3.3778 - accuracy: 0.0000e+00 - val_loss: 3.4535 - val_accuracy: 0.0000e+00 - lr: 0.0010\n",
            "Epoch 91/200\n",
            "74/74 [==============================] - 1s 11ms/step - loss: 3.3686 - accuracy: 0.0000e+00 - val_loss: 3.4457 - val_accuracy: 0.0000e+00 - lr: 0.0010\n",
            "Epoch 92/200\n",
            "74/74 [==============================] - 0s 3ms/step - loss: 3.3877 - accuracy: 0.0000e+00 - val_loss: 3.4491 - val_accuracy: 0.0000e+00 - lr: 0.0010\n",
            "Epoch 93/200\n",
            "74/74 [==============================] - 0s 3ms/step - loss: 3.3562 - accuracy: 0.0000e+00 - val_loss: 3.4900 - val_accuracy: 0.0000e+00 - lr: 0.0010\n",
            "Epoch 94/200\n",
            "74/74 [==============================] - 0s 3ms/step - loss: 3.3428 - accuracy: 0.0000e+00 - val_loss: 3.4621 - val_accuracy: 0.0000e+00 - lr: 0.0010\n",
            "Epoch 95/200\n",
            "74/74 [==============================] - 1s 14ms/step - loss: 3.3511 - accuracy: 0.0000e+00 - val_loss: 3.4360 - val_accuracy: 0.0000e+00 - lr: 0.0010\n",
            "Epoch 96/200\n",
            "74/74 [==============================] - 1s 16ms/step - loss: 3.3648 - accuracy: 0.0000e+00 - val_loss: 3.4260 - val_accuracy: 0.0000e+00 - lr: 0.0010\n",
            "Epoch 97/200\n",
            "74/74 [==============================] - 0s 4ms/step - loss: 3.3361 - accuracy: 0.0000e+00 - val_loss: 3.4753 - val_accuracy: 0.0000e+00 - lr: 0.0010\n",
            "Epoch 98/200\n",
            "74/74 [==============================] - 0s 4ms/step - loss: 3.3473 - accuracy: 0.0000e+00 - val_loss: 3.4398 - val_accuracy: 0.0000e+00 - lr: 0.0010\n",
            "Epoch 99/200\n",
            "74/74 [==============================] - 0s 5ms/step - loss: 3.3456 - accuracy: 0.0000e+00 - val_loss: 3.4656 - val_accuracy: 0.0000e+00 - lr: 0.0010\n",
            "Epoch 100/200\n",
            "74/74 [==============================] - 0s 5ms/step - loss: 3.3224 - accuracy: 0.0000e+00 - val_loss: 3.4278 - val_accuracy: 0.0000e+00 - lr: 0.0010\n",
            "Epoch 101/200\n",
            "74/74 [==============================] - 1s 15ms/step - loss: 3.3458 - accuracy: 0.0000e+00 - val_loss: 3.4086 - val_accuracy: 0.0000e+00 - lr: 0.0010\n",
            "Epoch 102/200\n",
            "74/74 [==============================] - 0s 3ms/step - loss: 3.3435 - accuracy: 0.0000e+00 - val_loss: 3.4099 - val_accuracy: 0.0000e+00 - lr: 0.0010\n",
            "Epoch 103/200\n",
            "74/74 [==============================] - 1s 11ms/step - loss: 3.3142 - accuracy: 0.0000e+00 - val_loss: 3.4077 - val_accuracy: 0.0000e+00 - lr: 0.0010\n",
            "Epoch 104/200\n",
            "74/74 [==============================] - 1s 11ms/step - loss: 3.3295 - accuracy: 0.0000e+00 - val_loss: 3.4065 - val_accuracy: 0.0000e+00 - lr: 0.0010\n",
            "Epoch 105/200\n",
            "74/74 [==============================] - 0s 4ms/step - loss: 3.3114 - accuracy: 0.0000e+00 - val_loss: 3.4114 - val_accuracy: 0.0000e+00 - lr: 0.0010\n",
            "Epoch 106/200\n",
            "74/74 [==============================] - 0s 3ms/step - loss: 3.3198 - accuracy: 0.0000e+00 - val_loss: 3.4098 - val_accuracy: 0.0000e+00 - lr: 0.0010\n",
            "Epoch 107/200\n",
            "74/74 [==============================] - 0s 3ms/step - loss: 3.3122 - accuracy: 0.0000e+00 - val_loss: 3.4445 - val_accuracy: 0.0000e+00 - lr: 0.0010\n",
            "Epoch 108/200\n",
            "74/74 [==============================] - 1s 10ms/step - loss: 3.3050 - accuracy: 0.0000e+00 - val_loss: 3.3917 - val_accuracy: 0.0000e+00 - lr: 0.0010\n",
            "Epoch 109/200\n",
            "74/74 [==============================] - 0s 3ms/step - loss: 3.3057 - accuracy: 0.0000e+00 - val_loss: 3.4503 - val_accuracy: 0.0000e+00 - lr: 0.0010\n",
            "Epoch 110/200\n",
            "74/74 [==============================] - 0s 4ms/step - loss: 3.3242 - accuracy: 0.0000e+00 - val_loss: 3.4578 - val_accuracy: 0.0000e+00 - lr: 0.0010\n",
            "Epoch 111/200\n",
            "74/74 [==============================] - 0s 3ms/step - loss: 3.3145 - accuracy: 0.0000e+00 - val_loss: 3.4437 - val_accuracy: 0.0000e+00 - lr: 0.0010\n",
            "Epoch 112/200\n",
            "74/74 [==============================] - 0s 4ms/step - loss: 3.3080 - accuracy: 0.0000e+00 - val_loss: 3.4581 - val_accuracy: 0.0000e+00 - lr: 0.0010\n",
            "Epoch 113/200\n",
            "72/74 [============================>.] - ETA: 0s - loss: 3.2873 - accuracy: 0.0000e+00\n",
            "Epoch 113: ReduceLROnPlateau reducing learning rate to 0.00010000000474974513.\n",
            "74/74 [==============================] - 0s 3ms/step - loss: 3.2906 - accuracy: 0.0000e+00 - val_loss: 3.3920 - val_accuracy: 0.0000e+00 - lr: 0.0010\n",
            "Epoch 114/200\n",
            "74/74 [==============================] - 1s 10ms/step - loss: 3.2738 - accuracy: 0.0000e+00 - val_loss: 3.3853 - val_accuracy: 0.0000e+00 - lr: 1.0000e-04\n",
            "Epoch 115/200\n",
            "74/74 [==============================] - 1s 11ms/step - loss: 3.2750 - accuracy: 0.0000e+00 - val_loss: 3.3843 - val_accuracy: 0.0000e+00 - lr: 1.0000e-04\n",
            "Epoch 116/200\n",
            "74/74 [==============================] - 1s 10ms/step - loss: 3.2712 - accuracy: 0.0000e+00 - val_loss: 3.3842 - val_accuracy: 0.0000e+00 - lr: 1.0000e-04\n",
            "Epoch 117/200\n",
            "74/74 [==============================] - 1s 10ms/step - loss: 3.2710 - accuracy: 0.0000e+00 - val_loss: 3.3841 - val_accuracy: 0.0000e+00 - lr: 1.0000e-04\n",
            "Epoch 118/200\n",
            "74/74 [==============================] - 0s 3ms/step - loss: 3.2718 - accuracy: 0.0000e+00 - val_loss: 3.3854 - val_accuracy: 0.0000e+00 - lr: 1.0000e-04\n",
            "Epoch 119/200\n",
            "74/74 [==============================] - 0s 3ms/step - loss: 3.2717 - accuracy: 0.0000e+00 - val_loss: 3.4021 - val_accuracy: 0.0000e+00 - lr: 1.0000e-04\n",
            "Epoch 120/200\n",
            "74/74 [==============================] - 0s 3ms/step - loss: 3.2722 - accuracy: 0.0000e+00 - val_loss: 3.4033 - val_accuracy: 0.0000e+00 - lr: 1.0000e-04\n",
            "Epoch 121/200\n",
            "74/74 [==============================] - 0s 3ms/step - loss: 3.2726 - accuracy: 0.0000e+00 - val_loss: 3.3860 - val_accuracy: 0.0000e+00 - lr: 1.0000e-04\n",
            "Epoch 122/200\n",
            "52/74 [====================>.........] - ETA: 0s - loss: 3.2283 - accuracy: 0.0000e+00\n",
            "Epoch 122: ReduceLROnPlateau reducing learning rate to 1.0000000474974514e-05.\n",
            "74/74 [==============================] - 0s 3ms/step - loss: 3.2725 - accuracy: 0.0000e+00 - val_loss: 3.3958 - val_accuracy: 0.0000e+00 - lr: 1.0000e-04\n",
            "Epoch 123/200\n",
            "74/74 [==============================] - 1s 10ms/step - loss: 3.2714 - accuracy: 0.0000e+00 - val_loss: 3.3835 - val_accuracy: 0.0000e+00 - lr: 1.0000e-05\n",
            "Epoch 124/200\n",
            "74/74 [==============================] - 0s 3ms/step - loss: 3.2680 - accuracy: 0.0000e+00 - val_loss: 3.3835 - val_accuracy: 0.0000e+00 - lr: 1.0000e-05\n",
            "Epoch 125/200\n",
            "74/74 [==============================] - 1s 14ms/step - loss: 3.2677 - accuracy: 0.0000e+00 - val_loss: 3.3833 - val_accuracy: 0.0000e+00 - lr: 1.0000e-05\n",
            "Epoch 126/200\n",
            "74/74 [==============================] - 0s 4ms/step - loss: 3.2676 - accuracy: 0.0000e+00 - val_loss: 3.3834 - val_accuracy: 0.0000e+00 - lr: 1.0000e-05\n",
            "Epoch 127/200\n",
            "74/74 [==============================] - 0s 4ms/step - loss: 3.2678 - accuracy: 0.0000e+00 - val_loss: 3.3833 - val_accuracy: 0.0000e+00 - lr: 1.0000e-05\n",
            "Epoch 128/200\n",
            "74/74 [==============================] - 0s 5ms/step - loss: 3.2676 - accuracy: 0.0000e+00 - val_loss: 3.3833 - val_accuracy: 0.0000e+00 - lr: 1.0000e-05\n",
            "Epoch 129/200\n",
            "74/74 [==============================] - 0s 4ms/step - loss: 3.2678 - accuracy: 0.0000e+00 - val_loss: 3.3838 - val_accuracy: 0.0000e+00 - lr: 1.0000e-05\n",
            "Epoch 130/200\n",
            "68/74 [==========================>...] - ETA: 0s - loss: 3.2547 - accuracy: 0.0000e+00\n",
            "Epoch 130: ReduceLROnPlateau reducing learning rate to 1.0000000656873453e-06.\n",
            "74/74 [==============================] - 1s 15ms/step - loss: 3.2675 - accuracy: 0.0000e+00 - val_loss: 3.3832 - val_accuracy: 0.0000e+00 - lr: 1.0000e-05\n",
            "Epoch 131/200\n",
            "74/74 [==============================] - 0s 4ms/step - loss: 3.2673 - accuracy: 0.0000e+00 - val_loss: 3.3832 - val_accuracy: 0.0000e+00 - lr: 1.0000e-06\n",
            "Epoch 132/200\n",
            "74/74 [==============================] - 0s 4ms/step - loss: 3.2673 - accuracy: 0.0000e+00 - val_loss: 3.3833 - val_accuracy: 0.0000e+00 - lr: 1.0000e-06\n",
            "Epoch 133/200\n",
            "74/74 [==============================] - 0s 4ms/step - loss: 3.2673 - accuracy: 0.0000e+00 - val_loss: 3.3833 - val_accuracy: 0.0000e+00 - lr: 1.0000e-06\n",
            "Epoch 134/200\n",
            "74/74 [==============================] - 0s 5ms/step - loss: 3.2673 - accuracy: 0.0000e+00 - val_loss: 3.3833 - val_accuracy: 0.0000e+00 - lr: 1.0000e-06\n",
            "Epoch 135/200\n",
            "71/74 [===========================>..] - ETA: 0s - loss: 3.2686 - accuracy: 0.0000e+00\n",
            "Epoch 135: ReduceLROnPlateau reducing learning rate to 1.0000001111620805e-07.\n",
            "74/74 [==============================] - 0s 3ms/step - loss: 3.2673 - accuracy: 0.0000e+00 - val_loss: 3.3833 - val_accuracy: 0.0000e+00 - lr: 1.0000e-06\n",
            "Epoch 136/200\n",
            "74/74 [==============================] - 0s 3ms/step - loss: 3.2672 - accuracy: 0.0000e+00 - val_loss: 3.3833 - val_accuracy: 0.0000e+00 - lr: 1.0000e-07\n",
            "Epoch 137/200\n",
            "74/74 [==============================] - 0s 3ms/step - loss: 3.2672 - accuracy: 0.0000e+00 - val_loss: 3.3833 - val_accuracy: 0.0000e+00 - lr: 1.0000e-07\n",
            "Epoch 138/200\n",
            "74/74 [==============================] - 0s 3ms/step - loss: 3.2672 - accuracy: 0.0000e+00 - val_loss: 3.3833 - val_accuracy: 0.0000e+00 - lr: 1.0000e-07\n",
            "Epoch 139/200\n",
            "74/74 [==============================] - 0s 4ms/step - loss: 3.2673 - accuracy: 0.0000e+00 - val_loss: 3.3833 - val_accuracy: 0.0000e+00 - lr: 1.0000e-07\n",
            "Epoch 140/200\n",
            "67/74 [==========================>...] - ETA: 0s - loss: 3.2957 - accuracy: 0.0000e+00\n",
            "Epoch 140: ReduceLROnPlateau reducing learning rate to 1.000000082740371e-08.\n",
            "74/74 [==============================] - 0s 3ms/step - loss: 3.2672 - accuracy: 0.0000e+00 - val_loss: 3.3833 - val_accuracy: 0.0000e+00 - lr: 1.0000e-07\n",
            "Epoch 141/200\n",
            "74/74 [==============================] - 0s 3ms/step - loss: 3.2672 - accuracy: 0.0000e+00 - val_loss: 3.3833 - val_accuracy: 0.0000e+00 - lr: 1.0000e-08\n",
            "Epoch 142/200\n",
            "74/74 [==============================] - 0s 3ms/step - loss: 3.2672 - accuracy: 0.0000e+00 - val_loss: 3.3833 - val_accuracy: 0.0000e+00 - lr: 1.0000e-08\n",
            "Epoch 143/200\n",
            "74/74 [==============================] - 0s 3ms/step - loss: 3.2672 - accuracy: 0.0000e+00 - val_loss: 3.3833 - val_accuracy: 0.0000e+00 - lr: 1.0000e-08\n",
            "Epoch 144/200\n",
            "74/74 [==============================] - 0s 3ms/step - loss: 3.2672 - accuracy: 0.0000e+00 - val_loss: 3.3833 - val_accuracy: 0.0000e+00 - lr: 1.0000e-08\n",
            "Epoch 145/200\n",
            "73/74 [============================>.] - ETA: 0s - loss: 3.2644 - accuracy: 0.0000e+00\n",
            "Epoch 145: ReduceLROnPlateau reducing learning rate to 1.000000082740371e-09.\n",
            "74/74 [==============================] - 0s 3ms/step - loss: 3.2672 - accuracy: 0.0000e+00 - val_loss: 3.3833 - val_accuracy: 0.0000e+00 - lr: 1.0000e-08\n",
            "Epoch 146/200\n",
            "74/74 [==============================] - 0s 3ms/step - loss: 3.2672 - accuracy: 0.0000e+00 - val_loss: 3.3833 - val_accuracy: 0.0000e+00 - lr: 1.0000e-09\n",
            "Epoch 147/200\n",
            "74/74 [==============================] - 0s 3ms/step - loss: 3.2672 - accuracy: 0.0000e+00 - val_loss: 3.3833 - val_accuracy: 0.0000e+00 - lr: 1.0000e-09\n",
            "Epoch 148/200\n",
            "74/74 [==============================] - 0s 3ms/step - loss: 3.2672 - accuracy: 0.0000e+00 - val_loss: 3.3833 - val_accuracy: 0.0000e+00 - lr: 1.0000e-09\n",
            "Epoch 149/200\n",
            "74/74 [==============================] - 0s 3ms/step - loss: 3.2672 - accuracy: 0.0000e+00 - val_loss: 3.3833 - val_accuracy: 0.0000e+00 - lr: 1.0000e-09\n",
            "Epoch 150/200\n",
            "70/74 [===========================>..] - ETA: 0s - loss: 3.2692 - accuracy: 0.0000e+00\n",
            "Epoch 150: ReduceLROnPlateau reducing learning rate to 1.000000082740371e-10.\n",
            "74/74 [==============================] - 0s 3ms/step - loss: 3.2672 - accuracy: 0.0000e+00 - val_loss: 3.3833 - val_accuracy: 0.0000e+00 - lr: 1.0000e-09\n",
            "Epoch 150: early stopping\n"
          ]
        }
      ]
    },
    {
      "cell_type": "code",
      "source": [
        "pre=model.predict(x_test_normalize)\n",
        "\n",
        "plt.xlabel('pre')\n",
        "plt.ylabel('truth')\n",
        "plt.scatter(pre ,y_test)\n",
        "\n",
        "plt.legend()\n",
        "plt.show()"
      ],
      "metadata": {
        "colab": {
          "base_uri": "https://localhost:8080/",
          "height": 503
        },
        "id": "K-QmgMJGuAY3",
        "outputId": "7ac3760a-4eb7-4429-8a75-4f15d7b77b98"
      },
      "execution_count": null,
      "outputs": [
        {
          "output_type": "stream",
          "name": "stdout",
          "text": [
            "74/74 [==============================] - 0s 2ms/step\n"
          ]
        },
        {
          "output_type": "stream",
          "name": "stderr",
          "text": [
            "WARNING:matplotlib.legend:No artists with labels found to put in legend.  Note that artists whose label start with an underscore are ignored when legend() is called with no argument.\n"
          ]
        },
        {
          "output_type": "display_data",
          "data": {
            "text/plain": [
              "<Figure size 640x480 with 1 Axes>"
            ],
            "image/png": "[encoded data removed]"
          },
          "metadata": {}
        }
      ]
    },
    {
      "cell_type": "code",
      "source": [
        "SUM=0\n",
        "for i in range(len(pre)):\n",
        "  SUM+=(abs(pre[i]-y_test.values[i])/y_test.values[i])\n",
        "print(SUM/len(pre)*100)"
      ],
      "metadata": {
        "colab": {
          "base_uri": "https://localhost:8080/",
          "height": 228
        },
        "id": "qfyzYehtuD2R",
        "outputId": "6e31352d-7d41-458f-92f2-b449fa280b6d"
      },
      "execution_count": null,
      "outputs": [
        {
          "output_type": "error",
          "ename": "IndexError",
          "evalue": "ignored",
          "traceback": [
            "\u001b[0;31m---------------------------------------------------------------------------\u001b[0m",
            "\u001b[0;31mIndexError\u001b[0m                                Traceback (most recent call last)",
            "\u001b[0;32m<ipython-input-324-c715be3aa8b4>\u001b[0m in \u001b[0;36m<cell line: 2>\u001b[0;34m()\u001b[0m\n\u001b[1;32m      1\u001b[0m \u001b[0mSUM\u001b[0m\u001b[0;34m=\u001b[0m\u001b[0;36m0\u001b[0m\u001b[0;34m\u001b[0m\u001b[0;34m\u001b[0m\u001b[0m\n\u001b[1;32m      2\u001b[0m \u001b[0;32mfor\u001b[0m \u001b[0mi\u001b[0m \u001b[0;32min\u001b[0m \u001b[0mrange\u001b[0m\u001b[0;34m(\u001b[0m\u001b[0mlen\u001b[0m\u001b[0;34m(\u001b[0m\u001b[0mpre\u001b[0m\u001b[0;34m)\u001b[0m\u001b[0;34m)\u001b[0m\u001b[0;34m:\u001b[0m\u001b[0;34m\u001b[0m\u001b[0;34m\u001b[0m\u001b[0m\n\u001b[0;32m----> 3\u001b[0;31m   \u001b[0mSUM\u001b[0m\u001b[0;34m+=\u001b[0m\u001b[0;34m(\u001b[0m\u001b[0mabs\u001b[0m\u001b[0;34m(\u001b[0m\u001b[0mpre\u001b[0m\u001b[0;34m[\u001b[0m\u001b[0mi\u001b[0m\u001b[0;34m]\u001b[0m\u001b[0;34m-\u001b[0m\u001b[0my_test\u001b[0m\u001b[0;34m.\u001b[0m\u001b[0mvalues\u001b[0m\u001b[0;34m[\u001b[0m\u001b[0mi\u001b[0m\u001b[0;34m]\u001b[0m\u001b[0;34m)\u001b[0m\u001b[0;34m/\u001b[0m\u001b[0my_test\u001b[0m\u001b[0;34m.\u001b[0m\u001b[0mvalues\u001b[0m\u001b[0;34m[\u001b[0m\u001b[0mi\u001b[0m\u001b[0;34m]\u001b[0m\u001b[0;34m)\u001b[0m\u001b[0;34m\u001b[0m\u001b[0;34m\u001b[0m\u001b[0m\n\u001b[0m\u001b[1;32m      4\u001b[0m \u001b[0mprint\u001b[0m\u001b[0;34m(\u001b[0m\u001b[0mSUM\u001b[0m\u001b[0;34m/\u001b[0m\u001b[0mlen\u001b[0m\u001b[0;34m(\u001b[0m\u001b[0mpre\u001b[0m\u001b[0;34m)\u001b[0m\u001b[0;34m*\u001b[0m\u001b[0;36m100\u001b[0m\u001b[0;34m)\u001b[0m\u001b[0;34m\u001b[0m\u001b[0;34m\u001b[0m\u001b[0m\n",
            "\u001b[0;31mIndexError\u001b[0m: index 2351 is out of bounds for axis 0 with size 2351"
          ]
        }
      ]
    },
    {
      "cell_type": "code",
      "source": [
        "pre=model.predict(x_pred_normalize)\n",
        "\n",
        "plt.xlabel('pre')\n",
        "plt.ylabel('truth')\n",
        "plt.scatter(pre ,pre)\n",
        "\n",
        "plt.legend()\n",
        "plt.show()\n"
      ],
      "metadata": {
        "colab": {
          "base_uri": "https://localhost:8080/",
          "height": 503
        },
        "id": "W0tLrg_GnyuM",
        "outputId": "8c63f625-f47f-49d9-efb4-876c0f1b6498"
      },
      "execution_count": null,
      "outputs": [
        {
          "output_type": "stream",
          "name": "stdout",
          "text": [
            "184/184 [==============================] - 0s 1ms/step\n"
          ]
        },
        {
          "output_type": "stream",
          "name": "stderr",
          "text": [
            "WARNING:matplotlib.legend:No artists with labels found to put in legend.  Note that artists whose label start with an underscore are ignored when legend() is called with no argument.\n"
          ]
        },
        {
          "output_type": "display_data",
          "data": {
            "text/plain": [
              "<Figure size 640x480 with 1 Axes>"
            ],
            "image/png": "[encoded data removed]"
          },
          "metadata": {}
        }
      ]
    },
    {
      "cell_type": "code",
      "source": [
        "import csv\n",
        "with open('output.csv', 'w', newline='') as csvfile:\n",
        "  writer = csv.writer(csvfile)\n",
        "  writer.writerow([\"ID\", \"predicted_price\"])\n",
        "  for i, value in enumerate(pre):\n",
        "    writer.writerow([f'PU-{i+1}', value[0]])"
      ],
      "metadata": {
        "id": "sF5oZ5d2oNNI"
      },
      "execution_count": null,
      "outputs": []
    }
  ]
}